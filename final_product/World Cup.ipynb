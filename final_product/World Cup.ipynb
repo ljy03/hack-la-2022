{
 "cells": [
  {
   "cell_type": "markdown",
   "metadata": {},
   "source": [
    "## Data: https://www.kaggle.com/abecklas/fifa-world-cup"
   ]
  },
  {
   "cell_type": "code",
   "execution_count": 1,
   "metadata": {},
   "outputs": [],
   "source": [
    "import pandas as pd \n",
    "import numpy as np\n",
    "import matplotlib.pyplot as plt\n",
    "import seaborn as sns\n",
    "from scipy.stats import stats as stats\n",
    "%matplotlib inline"
   ]
  },
  {
   "cell_type": "code",
   "execution_count": 2,
   "metadata": {},
   "outputs": [],
   "source": [
    "match = pd.read_csv('WorldCupMatches.csv')"
   ]
  },
  {
   "cell_type": "code",
   "execution_count": 3,
   "metadata": {},
   "outputs": [
    {
     "data": {
      "text/html": [
       "<div>\n",
       "<style scoped>\n",
       "    .dataframe tbody tr th:only-of-type {\n",
       "        vertical-align: middle;\n",
       "    }\n",
       "\n",
       "    .dataframe tbody tr th {\n",
       "        vertical-align: top;\n",
       "    }\n",
       "\n",
       "    .dataframe thead th {\n",
       "        text-align: right;\n",
       "    }\n",
       "</style>\n",
       "<table border=\"1\" class=\"dataframe\">\n",
       "  <thead>\n",
       "    <tr style=\"text-align: right;\">\n",
       "      <th></th>\n",
       "      <th>Year</th>\n",
       "      <th>Datetime</th>\n",
       "      <th>Stage</th>\n",
       "      <th>Stadium</th>\n",
       "      <th>City</th>\n",
       "      <th>Home Team Name</th>\n",
       "      <th>Home Team Goals</th>\n",
       "      <th>Away Team Goals</th>\n",
       "      <th>Away Team Name</th>\n",
       "      <th>Win conditions</th>\n",
       "      <th>Attendance</th>\n",
       "      <th>Half-time Home Goals</th>\n",
       "      <th>Half-time Away Goals</th>\n",
       "      <th>Referee</th>\n",
       "      <th>Assistant 1</th>\n",
       "      <th>Assistant 2</th>\n",
       "      <th>RoundID</th>\n",
       "      <th>MatchID</th>\n",
       "      <th>Home Team Initials</th>\n",
       "      <th>Away Team Initials</th>\n",
       "    </tr>\n",
       "  </thead>\n",
       "  <tbody>\n",
       "    <tr>\n",
       "      <th>0</th>\n",
       "      <td>1930.0</td>\n",
       "      <td>13 Jul 1930 - 15:00</td>\n",
       "      <td>Group 1</td>\n",
       "      <td>Pocitos</td>\n",
       "      <td>Montevideo</td>\n",
       "      <td>France</td>\n",
       "      <td>4.0</td>\n",
       "      <td>1.0</td>\n",
       "      <td>Mexico</td>\n",
       "      <td></td>\n",
       "      <td>4444.0</td>\n",
       "      <td>3.0</td>\n",
       "      <td>0.0</td>\n",
       "      <td>LOMBARDI Domingo (URU)</td>\n",
       "      <td>CRISTOPHE Henry (BEL)</td>\n",
       "      <td>REGO Gilberto (BRA)</td>\n",
       "      <td>201.0</td>\n",
       "      <td>1096.0</td>\n",
       "      <td>FRA</td>\n",
       "      <td>MEX</td>\n",
       "    </tr>\n",
       "    <tr>\n",
       "      <th>1</th>\n",
       "      <td>1930.0</td>\n",
       "      <td>13 Jul 1930 - 15:00</td>\n",
       "      <td>Group 4</td>\n",
       "      <td>Parque Central</td>\n",
       "      <td>Montevideo</td>\n",
       "      <td>USA</td>\n",
       "      <td>3.0</td>\n",
       "      <td>0.0</td>\n",
       "      <td>Belgium</td>\n",
       "      <td></td>\n",
       "      <td>18346.0</td>\n",
       "      <td>2.0</td>\n",
       "      <td>0.0</td>\n",
       "      <td>MACIAS Jose (ARG)</td>\n",
       "      <td>MATEUCCI Francisco (URU)</td>\n",
       "      <td>WARNKEN Alberto (CHI)</td>\n",
       "      <td>201.0</td>\n",
       "      <td>1090.0</td>\n",
       "      <td>USA</td>\n",
       "      <td>BEL</td>\n",
       "    </tr>\n",
       "    <tr>\n",
       "      <th>2</th>\n",
       "      <td>1930.0</td>\n",
       "      <td>14 Jul 1930 - 12:45</td>\n",
       "      <td>Group 2</td>\n",
       "      <td>Parque Central</td>\n",
       "      <td>Montevideo</td>\n",
       "      <td>Yugoslavia</td>\n",
       "      <td>2.0</td>\n",
       "      <td>1.0</td>\n",
       "      <td>Brazil</td>\n",
       "      <td></td>\n",
       "      <td>24059.0</td>\n",
       "      <td>2.0</td>\n",
       "      <td>0.0</td>\n",
       "      <td>TEJADA Anibal (URU)</td>\n",
       "      <td>VALLARINO Ricardo (URU)</td>\n",
       "      <td>BALWAY Thomas (FRA)</td>\n",
       "      <td>201.0</td>\n",
       "      <td>1093.0</td>\n",
       "      <td>YUG</td>\n",
       "      <td>BRA</td>\n",
       "    </tr>\n",
       "    <tr>\n",
       "      <th>3</th>\n",
       "      <td>1930.0</td>\n",
       "      <td>14 Jul 1930 - 14:50</td>\n",
       "      <td>Group 3</td>\n",
       "      <td>Pocitos</td>\n",
       "      <td>Montevideo</td>\n",
       "      <td>Romania</td>\n",
       "      <td>3.0</td>\n",
       "      <td>1.0</td>\n",
       "      <td>Peru</td>\n",
       "      <td></td>\n",
       "      <td>2549.0</td>\n",
       "      <td>1.0</td>\n",
       "      <td>0.0</td>\n",
       "      <td>WARNKEN Alberto (CHI)</td>\n",
       "      <td>LANGENUS Jean (BEL)</td>\n",
       "      <td>MATEUCCI Francisco (URU)</td>\n",
       "      <td>201.0</td>\n",
       "      <td>1098.0</td>\n",
       "      <td>ROU</td>\n",
       "      <td>PER</td>\n",
       "    </tr>\n",
       "    <tr>\n",
       "      <th>4</th>\n",
       "      <td>1930.0</td>\n",
       "      <td>15 Jul 1930 - 16:00</td>\n",
       "      <td>Group 1</td>\n",
       "      <td>Parque Central</td>\n",
       "      <td>Montevideo</td>\n",
       "      <td>Argentina</td>\n",
       "      <td>1.0</td>\n",
       "      <td>0.0</td>\n",
       "      <td>France</td>\n",
       "      <td></td>\n",
       "      <td>23409.0</td>\n",
       "      <td>0.0</td>\n",
       "      <td>0.0</td>\n",
       "      <td>REGO Gilberto (BRA)</td>\n",
       "      <td>SAUCEDO Ulises (BOL)</td>\n",
       "      <td>RADULESCU Constantin (ROU)</td>\n",
       "      <td>201.0</td>\n",
       "      <td>1085.0</td>\n",
       "      <td>ARG</td>\n",
       "      <td>FRA</td>\n",
       "    </tr>\n",
       "    <tr>\n",
       "      <th>5</th>\n",
       "      <td>1930.0</td>\n",
       "      <td>16 Jul 1930 - 14:45</td>\n",
       "      <td>Group 1</td>\n",
       "      <td>Parque Central</td>\n",
       "      <td>Montevideo</td>\n",
       "      <td>Chile</td>\n",
       "      <td>3.0</td>\n",
       "      <td>0.0</td>\n",
       "      <td>Mexico</td>\n",
       "      <td></td>\n",
       "      <td>9249.0</td>\n",
       "      <td>1.0</td>\n",
       "      <td>0.0</td>\n",
       "      <td>CRISTOPHE Henry (BEL)</td>\n",
       "      <td>APHESTEGUY Martin (URU)</td>\n",
       "      <td>LANGENUS Jean (BEL)</td>\n",
       "      <td>201.0</td>\n",
       "      <td>1095.0</td>\n",
       "      <td>CHI</td>\n",
       "      <td>MEX</td>\n",
       "    </tr>\n",
       "    <tr>\n",
       "      <th>6</th>\n",
       "      <td>1930.0</td>\n",
       "      <td>17 Jul 1930 - 12:45</td>\n",
       "      <td>Group 2</td>\n",
       "      <td>Parque Central</td>\n",
       "      <td>Montevideo</td>\n",
       "      <td>Yugoslavia</td>\n",
       "      <td>4.0</td>\n",
       "      <td>0.0</td>\n",
       "      <td>Bolivia</td>\n",
       "      <td></td>\n",
       "      <td>18306.0</td>\n",
       "      <td>0.0</td>\n",
       "      <td>0.0</td>\n",
       "      <td>MATEUCCI Francisco (URU)</td>\n",
       "      <td>LOMBARDI Domingo (URU)</td>\n",
       "      <td>WARNKEN Alberto (CHI)</td>\n",
       "      <td>201.0</td>\n",
       "      <td>1092.0</td>\n",
       "      <td>YUG</td>\n",
       "      <td>BOL</td>\n",
       "    </tr>\n",
       "    <tr>\n",
       "      <th>7</th>\n",
       "      <td>1930.0</td>\n",
       "      <td>17 Jul 1930 - 14:45</td>\n",
       "      <td>Group 4</td>\n",
       "      <td>Parque Central</td>\n",
       "      <td>Montevideo</td>\n",
       "      <td>USA</td>\n",
       "      <td>3.0</td>\n",
       "      <td>0.0</td>\n",
       "      <td>Paraguay</td>\n",
       "      <td></td>\n",
       "      <td>18306.0</td>\n",
       "      <td>2.0</td>\n",
       "      <td>0.0</td>\n",
       "      <td>MACIAS Jose (ARG)</td>\n",
       "      <td>APHESTEGUY Martin (URU)</td>\n",
       "      <td>TEJADA Anibal (URU)</td>\n",
       "      <td>201.0</td>\n",
       "      <td>1097.0</td>\n",
       "      <td>USA</td>\n",
       "      <td>PAR</td>\n",
       "    </tr>\n",
       "    <tr>\n",
       "      <th>8</th>\n",
       "      <td>1930.0</td>\n",
       "      <td>18 Jul 1930 - 14:30</td>\n",
       "      <td>Group 3</td>\n",
       "      <td>Estadio Centenario</td>\n",
       "      <td>Montevideo</td>\n",
       "      <td>Uruguay</td>\n",
       "      <td>1.0</td>\n",
       "      <td>0.0</td>\n",
       "      <td>Peru</td>\n",
       "      <td></td>\n",
       "      <td>57735.0</td>\n",
       "      <td>0.0</td>\n",
       "      <td>0.0</td>\n",
       "      <td>LANGENUS Jean (BEL)</td>\n",
       "      <td>BALWAY Thomas (FRA)</td>\n",
       "      <td>CRISTOPHE Henry (BEL)</td>\n",
       "      <td>201.0</td>\n",
       "      <td>1099.0</td>\n",
       "      <td>URU</td>\n",
       "      <td>PER</td>\n",
       "    </tr>\n",
       "    <tr>\n",
       "      <th>9</th>\n",
       "      <td>1930.0</td>\n",
       "      <td>19 Jul 1930 - 12:50</td>\n",
       "      <td>Group 1</td>\n",
       "      <td>Estadio Centenario</td>\n",
       "      <td>Montevideo</td>\n",
       "      <td>Chile</td>\n",
       "      <td>1.0</td>\n",
       "      <td>0.0</td>\n",
       "      <td>France</td>\n",
       "      <td></td>\n",
       "      <td>2000.0</td>\n",
       "      <td>0.0</td>\n",
       "      <td>0.0</td>\n",
       "      <td>TEJADA Anibal (URU)</td>\n",
       "      <td>LOMBARDI Domingo (URU)</td>\n",
       "      <td>REGO Gilberto (BRA)</td>\n",
       "      <td>201.0</td>\n",
       "      <td>1094.0</td>\n",
       "      <td>CHI</td>\n",
       "      <td>FRA</td>\n",
       "    </tr>\n",
       "  </tbody>\n",
       "</table>\n",
       "</div>"
      ],
      "text/plain": [
       "     Year              Datetime    Stage             Stadium         City  \\\n",
       "0  1930.0  13 Jul 1930 - 15:00   Group 1             Pocitos  Montevideo    \n",
       "1  1930.0  13 Jul 1930 - 15:00   Group 4      Parque Central  Montevideo    \n",
       "2  1930.0  14 Jul 1930 - 12:45   Group 2      Parque Central  Montevideo    \n",
       "3  1930.0  14 Jul 1930 - 14:50   Group 3             Pocitos  Montevideo    \n",
       "4  1930.0  15 Jul 1930 - 16:00   Group 1      Parque Central  Montevideo    \n",
       "5  1930.0  16 Jul 1930 - 14:45   Group 1      Parque Central  Montevideo    \n",
       "6  1930.0  17 Jul 1930 - 12:45   Group 2      Parque Central  Montevideo    \n",
       "7  1930.0  17 Jul 1930 - 14:45   Group 4      Parque Central  Montevideo    \n",
       "8  1930.0  18 Jul 1930 - 14:30   Group 3  Estadio Centenario  Montevideo    \n",
       "9  1930.0  19 Jul 1930 - 12:50   Group 1  Estadio Centenario  Montevideo    \n",
       "\n",
       "  Home Team Name  Home Team Goals  Away Team Goals Away Team Name  \\\n",
       "0         France              4.0              1.0         Mexico   \n",
       "1            USA              3.0              0.0        Belgium   \n",
       "2     Yugoslavia              2.0              1.0         Brazil   \n",
       "3        Romania              3.0              1.0           Peru   \n",
       "4      Argentina              1.0              0.0         France   \n",
       "5          Chile              3.0              0.0         Mexico   \n",
       "6     Yugoslavia              4.0              0.0        Bolivia   \n",
       "7            USA              3.0              0.0       Paraguay   \n",
       "8        Uruguay              1.0              0.0           Peru   \n",
       "9          Chile              1.0              0.0         France   \n",
       "\n",
       "  Win conditions  Attendance  Half-time Home Goals  Half-time Away Goals  \\\n",
       "0                     4444.0                   3.0                   0.0   \n",
       "1                    18346.0                   2.0                   0.0   \n",
       "2                    24059.0                   2.0                   0.0   \n",
       "3                     2549.0                   1.0                   0.0   \n",
       "4                    23409.0                   0.0                   0.0   \n",
       "5                     9249.0                   1.0                   0.0   \n",
       "6                    18306.0                   0.0                   0.0   \n",
       "7                    18306.0                   2.0                   0.0   \n",
       "8                    57735.0                   0.0                   0.0   \n",
       "9                     2000.0                   0.0                   0.0   \n",
       "\n",
       "                    Referee               Assistant 1  \\\n",
       "0    LOMBARDI Domingo (URU)     CRISTOPHE Henry (BEL)   \n",
       "1         MACIAS Jose (ARG)  MATEUCCI Francisco (URU)   \n",
       "2       TEJADA Anibal (URU)   VALLARINO Ricardo (URU)   \n",
       "3     WARNKEN Alberto (CHI)       LANGENUS Jean (BEL)   \n",
       "4       REGO Gilberto (BRA)      SAUCEDO Ulises (BOL)   \n",
       "5     CRISTOPHE Henry (BEL)   APHESTEGUY Martin (URU)   \n",
       "6  MATEUCCI Francisco (URU)    LOMBARDI Domingo (URU)   \n",
       "7         MACIAS Jose (ARG)   APHESTEGUY Martin (URU)   \n",
       "8       LANGENUS Jean (BEL)       BALWAY Thomas (FRA)   \n",
       "9       TEJADA Anibal (URU)    LOMBARDI Domingo (URU)   \n",
       "\n",
       "                  Assistant 2  RoundID  MatchID Home Team Initials  \\\n",
       "0         REGO Gilberto (BRA)    201.0   1096.0                FRA   \n",
       "1       WARNKEN Alberto (CHI)    201.0   1090.0                USA   \n",
       "2         BALWAY Thomas (FRA)    201.0   1093.0                YUG   \n",
       "3    MATEUCCI Francisco (URU)    201.0   1098.0                ROU   \n",
       "4  RADULESCU Constantin (ROU)    201.0   1085.0                ARG   \n",
       "5         LANGENUS Jean (BEL)    201.0   1095.0                CHI   \n",
       "6       WARNKEN Alberto (CHI)    201.0   1092.0                YUG   \n",
       "7         TEJADA Anibal (URU)    201.0   1097.0                USA   \n",
       "8       CRISTOPHE Henry (BEL)    201.0   1099.0                URU   \n",
       "9         REGO Gilberto (BRA)    201.0   1094.0                CHI   \n",
       "\n",
       "  Away Team Initials  \n",
       "0                MEX  \n",
       "1                BEL  \n",
       "2                BRA  \n",
       "3                PER  \n",
       "4                FRA  \n",
       "5                MEX  \n",
       "6                BOL  \n",
       "7                PAR  \n",
       "8                PER  \n",
       "9                FRA  "
      ]
     },
     "execution_count": 3,
     "metadata": {},
     "output_type": "execute_result"
    }
   ],
   "source": [
    "match.head(10)"
   ]
  },
  {
   "cell_type": "code",
   "execution_count": 4,
   "metadata": {},
   "outputs": [
    {
     "name": "stdout",
     "output_type": "stream",
     "text": [
      "<class 'pandas.core.frame.DataFrame'>\n",
      "RangeIndex: 4572 entries, 0 to 4571\n",
      "Data columns (total 20 columns):\n",
      " #   Column                Non-Null Count  Dtype  \n",
      "---  ------                --------------  -----  \n",
      " 0   Year                  852 non-null    float64\n",
      " 1   Datetime              852 non-null    object \n",
      " 2   Stage                 852 non-null    object \n",
      " 3   Stadium               852 non-null    object \n",
      " 4   City                  852 non-null    object \n",
      " 5   Home Team Name        852 non-null    object \n",
      " 6   Home Team Goals       852 non-null    float64\n",
      " 7   Away Team Goals       852 non-null    float64\n",
      " 8   Away Team Name        852 non-null    object \n",
      " 9   Win conditions        852 non-null    object \n",
      " 10  Attendance            850 non-null    float64\n",
      " 11  Half-time Home Goals  852 non-null    float64\n",
      " 12  Half-time Away Goals  852 non-null    float64\n",
      " 13  Referee               852 non-null    object \n",
      " 14  Assistant 1           852 non-null    object \n",
      " 15  Assistant 2           852 non-null    object \n",
      " 16  RoundID               852 non-null    float64\n",
      " 17  MatchID               852 non-null    float64\n",
      " 18  Home Team Initials    852 non-null    object \n",
      " 19  Away Team Initials    852 non-null    object \n",
      "dtypes: float64(8), object(12)\n",
      "memory usage: 714.5+ KB\n"
     ]
    }
   ],
   "source": [
    "match.info()"
   ]
  },
  {
   "cell_type": "code",
   "execution_count": 5,
   "metadata": {},
   "outputs": [
    {
     "data": {
      "text/html": [
       "<div>\n",
       "<style scoped>\n",
       "    .dataframe tbody tr th:only-of-type {\n",
       "        vertical-align: middle;\n",
       "    }\n",
       "\n",
       "    .dataframe tbody tr th {\n",
       "        vertical-align: top;\n",
       "    }\n",
       "\n",
       "    .dataframe thead th {\n",
       "        text-align: right;\n",
       "    }\n",
       "</style>\n",
       "<table border=\"1\" class=\"dataframe\">\n",
       "  <thead>\n",
       "    <tr style=\"text-align: right;\">\n",
       "      <th></th>\n",
       "      <th>Year</th>\n",
       "      <th>Home Team Goals</th>\n",
       "      <th>Away Team Goals</th>\n",
       "      <th>Attendance</th>\n",
       "      <th>Half-time Home Goals</th>\n",
       "      <th>Half-time Away Goals</th>\n",
       "      <th>RoundID</th>\n",
       "      <th>MatchID</th>\n",
       "    </tr>\n",
       "  </thead>\n",
       "  <tbody>\n",
       "    <tr>\n",
       "      <th>count</th>\n",
       "      <td>852.000000</td>\n",
       "      <td>852.000000</td>\n",
       "      <td>852.000000</td>\n",
       "      <td>850.000000</td>\n",
       "      <td>852.000000</td>\n",
       "      <td>852.000000</td>\n",
       "      <td>8.520000e+02</td>\n",
       "      <td>8.520000e+02</td>\n",
       "    </tr>\n",
       "    <tr>\n",
       "      <th>mean</th>\n",
       "      <td>1985.089202</td>\n",
       "      <td>1.811033</td>\n",
       "      <td>1.022300</td>\n",
       "      <td>45164.800000</td>\n",
       "      <td>0.708920</td>\n",
       "      <td>0.428404</td>\n",
       "      <td>1.066177e+07</td>\n",
       "      <td>6.134687e+07</td>\n",
       "    </tr>\n",
       "    <tr>\n",
       "      <th>std</th>\n",
       "      <td>22.448825</td>\n",
       "      <td>1.610255</td>\n",
       "      <td>1.087573</td>\n",
       "      <td>23485.249247</td>\n",
       "      <td>0.937414</td>\n",
       "      <td>0.691252</td>\n",
       "      <td>2.729613e+07</td>\n",
       "      <td>1.110572e+08</td>\n",
       "    </tr>\n",
       "    <tr>\n",
       "      <th>min</th>\n",
       "      <td>1930.000000</td>\n",
       "      <td>0.000000</td>\n",
       "      <td>0.000000</td>\n",
       "      <td>2000.000000</td>\n",
       "      <td>0.000000</td>\n",
       "      <td>0.000000</td>\n",
       "      <td>2.010000e+02</td>\n",
       "      <td>2.500000e+01</td>\n",
       "    </tr>\n",
       "    <tr>\n",
       "      <th>25%</th>\n",
       "      <td>1970.000000</td>\n",
       "      <td>1.000000</td>\n",
       "      <td>0.000000</td>\n",
       "      <td>30000.000000</td>\n",
       "      <td>0.000000</td>\n",
       "      <td>0.000000</td>\n",
       "      <td>2.620000e+02</td>\n",
       "      <td>1.188750e+03</td>\n",
       "    </tr>\n",
       "    <tr>\n",
       "      <th>50%</th>\n",
       "      <td>1990.000000</td>\n",
       "      <td>2.000000</td>\n",
       "      <td>1.000000</td>\n",
       "      <td>41579.500000</td>\n",
       "      <td>0.000000</td>\n",
       "      <td>0.000000</td>\n",
       "      <td>3.370000e+02</td>\n",
       "      <td>2.191000e+03</td>\n",
       "    </tr>\n",
       "    <tr>\n",
       "      <th>75%</th>\n",
       "      <td>2002.000000</td>\n",
       "      <td>3.000000</td>\n",
       "      <td>2.000000</td>\n",
       "      <td>61374.500000</td>\n",
       "      <td>1.000000</td>\n",
       "      <td>1.000000</td>\n",
       "      <td>2.497220e+05</td>\n",
       "      <td>4.395006e+07</td>\n",
       "    </tr>\n",
       "    <tr>\n",
       "      <th>max</th>\n",
       "      <td>2014.000000</td>\n",
       "      <td>10.000000</td>\n",
       "      <td>7.000000</td>\n",
       "      <td>173850.000000</td>\n",
       "      <td>6.000000</td>\n",
       "      <td>5.000000</td>\n",
       "      <td>9.741060e+07</td>\n",
       "      <td>3.001865e+08</td>\n",
       "    </tr>\n",
       "  </tbody>\n",
       "</table>\n",
       "</div>"
      ],
      "text/plain": [
       "              Year  Home Team Goals  Away Team Goals     Attendance  \\\n",
       "count   852.000000       852.000000       852.000000     850.000000   \n",
       "mean   1985.089202         1.811033         1.022300   45164.800000   \n",
       "std      22.448825         1.610255         1.087573   23485.249247   \n",
       "min    1930.000000         0.000000         0.000000    2000.000000   \n",
       "25%    1970.000000         1.000000         0.000000   30000.000000   \n",
       "50%    1990.000000         2.000000         1.000000   41579.500000   \n",
       "75%    2002.000000         3.000000         2.000000   61374.500000   \n",
       "max    2014.000000        10.000000         7.000000  173850.000000   \n",
       "\n",
       "       Half-time Home Goals  Half-time Away Goals       RoundID       MatchID  \n",
       "count            852.000000            852.000000  8.520000e+02  8.520000e+02  \n",
       "mean               0.708920              0.428404  1.066177e+07  6.134687e+07  \n",
       "std                0.937414              0.691252  2.729613e+07  1.110572e+08  \n",
       "min                0.000000              0.000000  2.010000e+02  2.500000e+01  \n",
       "25%                0.000000              0.000000  2.620000e+02  1.188750e+03  \n",
       "50%                0.000000              0.000000  3.370000e+02  2.191000e+03  \n",
       "75%                1.000000              1.000000  2.497220e+05  4.395006e+07  \n",
       "max                6.000000              5.000000  9.741060e+07  3.001865e+08  "
      ]
     },
     "execution_count": 5,
     "metadata": {},
     "output_type": "execute_result"
    }
   ],
   "source": [
    "match.describe()"
   ]
  },
  {
   "cell_type": "markdown",
   "metadata": {},
   "source": [
    "# 前期数据处理 "
   ]
  },
  {
   "cell_type": "code",
   "execution_count": 6,
   "metadata": {},
   "outputs": [],
   "source": [
    "match['Goal Difference'] = np.abs(match['Home Team Goals'] - match['Away Team Goals'])"
   ]
  },
  {
   "cell_type": "code",
   "execution_count": 7,
   "metadata": {},
   "outputs": [],
   "source": [
    "match['Half-time Goal Difference'] = np.abs(match['Half-time Home Goals'] - match['Half-time Away Goals'])"
   ]
  },
  {
   "cell_type": "code",
   "execution_count": 8,
   "metadata": {},
   "outputs": [],
   "source": [
    "match['Goal total'] = match['Home Team Goals'] + match['Away Team Goals']"
   ]
  },
  {
   "cell_type": "code",
   "execution_count": 9,
   "metadata": {},
   "outputs": [],
   "source": [
    "def function(col):\n",
    "    if col > 1:\n",
    "        return 1\n",
    "    else:\n",
    "        return 0"
   ]
  },
  {
   "cell_type": "code",
   "execution_count": 10,
   "metadata": {},
   "outputs": [],
   "source": [
    "match['big_dfference'] = match['Goal Difference'].apply(lambda x : function(x))"
   ]
  },
  {
   "cell_type": "code",
   "execution_count": 11,
   "metadata": {},
   "outputs": [],
   "source": [
    "# function to get unique values \n",
    "def unique(list1): \n",
    "  \n",
    "    # intilize a null list \n",
    "    unique_list = [] \n",
    "      \n",
    "    # traverse for all elements \n",
    "    for x in list1: \n",
    "        # check if exists in unique_list or not \n",
    "        if x not in unique_list: \n",
    "            unique_list.append(x) \n",
    "    # print list \n",
    "    for x in unique_list: \n",
    "        print (x)"
   ]
  },
  {
   "cell_type": "code",
   "execution_count": 12,
   "metadata": {},
   "outputs": [
    {
     "name": "stdout",
     "output_type": "stream",
     "text": [
      "France\n",
      "USA\n",
      "Yugoslavia\n",
      "Romania\n",
      "Argentina\n",
      "Chile\n",
      "Uruguay\n",
      "Brazil\n",
      "Paraguay\n",
      "Austria\n",
      "Hungary\n",
      "Switzerland\n",
      "Sweden\n",
      "Germany\n",
      "Spain\n",
      "Italy\n",
      "Czechoslovakia\n",
      "Cuba\n",
      "England\n",
      "Germany FR\n",
      "Turkey\n",
      "Soviet Union\n",
      "Northern Ireland\n",
      "Mexico\n",
      "Wales\n",
      "Portugal\n",
      "Korea DPR\n",
      "Peru\n",
      "Belgium\n",
      "Bulgaria\n",
      "German DR\n",
      "Zaire\n",
      "Poland\n",
      "Australia\n",
      "Scotland\n",
      "Netherlands\n",
      "Haiti\n",
      "Tunisia\n",
      "Algeria\n",
      "Honduras\n",
      "Canada\n",
      "Morocco\n",
      "Korea Republic\n",
      "Iraq\n",
      "Denmark\n",
      "rn\">United Arab Emirates\n",
      "Costa Rica\n",
      "Cameroon\n",
      "rn\">Republic of Ireland\n",
      "Colombia\n",
      "Norway\n",
      "Nigeria\n",
      "Saudi Arabia\n",
      "Bolivia\n",
      "Russia\n",
      "Greece\n",
      "Jamaica\n",
      "South Africa\n",
      "Japan\n",
      "Croatia\n",
      "China PR\n",
      "Senegal\n",
      "Slovenia\n",
      "Ecuador\n",
      "rn\">Trinidad and Tobago\n",
      "rn\">Serbia and Montenegro\n",
      "Angola\n",
      "Czech Republic\n",
      "Togo\n",
      "Iran\n",
      "C�te d'Ivoire\n",
      "Ghana\n",
      "Ukraine\n",
      "Serbia\n",
      "New Zealand\n",
      "Slovakia\n",
      "IR Iran\n",
      "rn\">Bosnia and Herzegovina\n",
      "nan\n",
      "None\n"
     ]
    }
   ],
   "source": [
    "print(unique(match['Home Team Name']))"
   ]
  },
  {
   "cell_type": "code",
   "execution_count": 13,
   "metadata": {},
   "outputs": [
    {
     "name": "stdout",
     "output_type": "stream",
     "text": [
      "Mexico\n",
      "Belgium\n",
      "Brazil\n",
      "Peru\n",
      "France\n",
      "Bolivia\n",
      "Paraguay\n",
      "Romania\n",
      "Chile\n",
      "USA\n",
      "Yugoslavia\n",
      "Argentina\n",
      "Egypt\n",
      "Netherlands\n",
      "Switzerland\n",
      "Sweden\n",
      "Spain\n",
      "Hungary\n",
      "Austria\n",
      "Germany\n",
      "Czechoslovakia\n",
      "Dutch East Indies\n",
      "Norway\n",
      "Poland\n",
      "Cuba\n",
      "Italy\n",
      "England\n",
      "Scotland\n",
      "Turkey\n",
      "Korea Republic\n",
      "Germany FR\n",
      "Uruguay\n",
      "Wales\n",
      "Northern Ireland\n",
      "Soviet Union\n",
      "Colombia\n",
      "Bulgaria\n",
      "Korea DPR\n",
      "Portugal\n",
      "Israel\n",
      "Morocco\n",
      "El Salvador\n",
      "Australia\n",
      "Haiti\n",
      "German DR\n",
      "Zaire\n",
      "IR Iran\n",
      "Tunisia\n",
      "Iran\n",
      "Cameroon\n",
      "New Zealand\n",
      "Algeria\n",
      "Honduras\n",
      "Kuwait\n",
      "Iraq\n",
      "Denmark\n",
      "Canada\n",
      "rn\">Republic of Ireland\n",
      "rn\">United Arab Emirates\n",
      "Costa Rica\n",
      "Saudi Arabia\n",
      "Russia\n",
      "Greece\n",
      "Nigeria\n",
      "South Africa\n",
      "Japan\n",
      "Croatia\n",
      "Jamaica\n",
      "Senegal\n",
      "Slovenia\n",
      "Ecuador\n",
      "China PR\n",
      "C�te d'Ivoire\n",
      "Czech Republic\n",
      "Ghana\n",
      "Togo\n",
      "Ukraine\n",
      "rn\">Trinidad and Tobago\n",
      "rn\">Serbia and Montenegro\n",
      "Angola\n",
      "Slovakia\n",
      "Serbia\n",
      "rn\">Bosnia and Herzegovina\n",
      "nan\n",
      "None\n"
     ]
    }
   ],
   "source": [
    "print(unique(match['Away Team Name']))"
   ]
  },
  {
   "cell_type": "code",
   "execution_count": 14,
   "metadata": {},
   "outputs": [],
   "source": [
    "euro = ['Albania','Andorra','Armenia','Austria','Azerbaijan','Belarus','Belgium','Bosnia and Herzegovina','Bulgaria'\n",
    "        ,'Croatia','Cyprus','Czechia','Denmark','Estonia','Finland','France','Georgia','Germany','Greece','Hungary'\n",
    "        ,'Iceland','Ireland','Italy','Kazakhstan','Kosovo','Latvia','Liechtenstein','Lithuania','Luxembourg','Malta','Moldova'\n",
    "        ,'Monaco','Montenegro','Netherlands','North Macedonia','Norway','Poland','Portugal','Romania','Russia'\n",
    "        ,'San Marino','Serbia','Slovakia','Slovenia','Spain','Sweden','Switzerland','Turkey','Ukraine','Vatican City '\n",
    "        ,'Yugoslavia','Czechoslovakia','England','Scotland','Germany FR','Northern Ireland','Wales','Soviet Union']\n"
   ]
  },
  {
   "cell_type": "code",
   "execution_count": 15,
   "metadata": {},
   "outputs": [],
   "source": [
    "asia_oseania = ['Afghanistan','Armenia','Azerbaijan','Bahrain','Bangladesh','Bhutan','Brunei','Cambodia','China',\n",
    "                'Cyprus','Georgia','India','Indonesia','Iran','Iraq','Israel','Japan','Jordan','Kazakhstan','Kuwait',\n",
    "                'Kyrgyzstan','Laos','Lebanon','Malaysia','Maldives','Mongolia','Myanmar','Nepal','North Korea','Oman',\n",
    "                'Pakistan','Palestine','Philippines','Qatar','Russia','Saudi Arabia','Singapore','South Korea','Sri Lanka',\n",
    "                'Syria','Taiwan','Tajikistan','Timor-Leste','Turkey','Turkmenistan','rn\">United Arab Emirates',\n",
    "                'Uzbekistan','Vietnam','Yemen','Australia','Fiji','Kiribati','Marshall Islands','Micronesia',\n",
    "                'Nauru','New Zealand','Palau','Papua New Guinea','Samoa','Solomon Islands','Tonga','Tuvalu','Vanuatu',\n",
    "                'Dutch East Indies','Korea Republic','Korea DPR','IR Iran','China PR']"
   ]
  },
  {
   "cell_type": "code",
   "execution_count": 16,
   "metadata": {},
   "outputs": [],
   "source": [
    "africa = ['Algeria','Angola','Benin','Botswana','Burkina Faso','Burundi','Cabo Verde','Cameroon','Central African Republic ',\n",
    "          'Chad','Comoros','Congo','Djibouti','Egypt','Equatorial Guinea','Eritrea','Eswatini ','Ethiopia','Gabon',\n",
    "          'Gambia','Ghana','Guinea','Guinea-Bissau','Kenya',\n",
    "          'Lesotho','Liberia','Libya','Madagascar','Malawi','Mali','Mauritania','Mauritius','Morocco','Mozambique',\n",
    "          'Namibia','Niger','Nigeria','Rwanda','Sao Tome and Principe','Senegal','Seychelles','Sierra Leone','Somalia',\n",
    "          'South Africa','South Sudan','Sudan','Tanzania','Tunisia','Togo','Uganda','Zambia','Zimbabwe','Zaire',\"C�te d'Ivoire\"]\n"
   ]
  },
  {
   "cell_type": "code",
   "execution_count": 17,
   "metadata": {},
   "outputs": [],
   "source": [
    "north_am = ['Antigua and Barbuda','Bahamas','Barbados','Belize','Canada','Costa Rica','Cuba','Dominica','Dominican Republic',\n",
    "            'El Salvador','Grenada','Guatemala','Haiti','Honduras','Jamaica','Mexico','Nicaragua','Panama',\n",
    "            'Saint Kitts and Nevis','Saint Lucia','Saint Vincent and the Grenadines','Trinidad and Tobago','USA']"
   ]
  },
  {
   "cell_type": "code",
   "execution_count": 18,
   "metadata": {},
   "outputs": [],
   "source": [
    "south_am = ['Argentina','Bolivia','Brazil','Chile','Colombia','Ecuador','Guyana',\n",
    "            'Paraguay','Peru','Suriname','Uruguay','Venezuela']"
   ]
  },
  {
   "cell_type": "code",
   "execution_count": 19,
   "metadata": {},
   "outputs": [],
   "source": [
    "def con(p):\n",
    "    if p in euro:\n",
    "        return 1\n",
    "    elif p in asia_oseania:\n",
    "        return 2\n",
    "    elif p in africa:\n",
    "        return 3\n",
    "    elif p in north_am:\n",
    "        return 4\n",
    "    elif p in south_am:\n",
    "        return 5\n",
    "    else:\n",
    "        return 0"
   ]
  },
  {
   "cell_type": "code",
   "execution_count": 20,
   "metadata": {},
   "outputs": [],
   "source": [
    "match['home_team'] = match['Home Team Name'].apply(lambda x : con(x))"
   ]
  },
  {
   "cell_type": "code",
   "execution_count": 21,
   "metadata": {},
   "outputs": [],
   "source": [
    "match['away_team'] = match['Away Team Name'].apply(lambda x : con(x))"
   ]
  },
  {
   "cell_type": "code",
   "execution_count": 22,
   "metadata": {},
   "outputs": [
    {
     "data": {
      "text/plain": [
       "<matplotlib.axes._subplots.AxesSubplot at 0x1084922d0>"
      ]
     },
     "execution_count": 22,
     "metadata": {},
     "output_type": "execute_result"
    },
    {
     "data": {
      "image/png": "[encoded data removed]",
      "text/plain": [
       "<Figure size 432x288 with 1 Axes>"
      ]
     },
     "metadata": {
      "needs_background": "light"
     },
     "output_type": "display_data"
    }
   ],
   "source": [
    "sns.countplot(match['home_team'])"
   ]
  },
  {
   "cell_type": "code",
   "execution_count": 23,
   "metadata": {},
   "outputs": [
    {
     "data": {
      "text/plain": [
       "<matplotlib.axes._subplots.AxesSubplot at 0x1a1d19ff50>"
      ]
     },
     "execution_count": 23,
     "metadata": {},
     "output_type": "execute_result"
    },
    {
     "data": {
      "image/png": "[encoded data removed]",
      "text/plain": [
       "<Figure size 432x288 with 1 Axes>"
      ]
     },
     "metadata": {
      "needs_background": "light"
     },
     "output_type": "display_data"
    }
   ],
   "source": [
    "sns.countplot(match['away_team'])"
   ]
  },
  {
   "cell_type": "code",
   "execution_count": 24,
   "metadata": {},
   "outputs": [
    {
     "name": "stdout",
     "output_type": "stream",
     "text": [
      "Group 1\n",
      "Group 4\n",
      "Group 2\n",
      "Group 3\n",
      "Semi-finals\n",
      "Final\n",
      "Preliminary round\n",
      "Quarter-finals\n",
      "Match for third place\n",
      "First round\n",
      "Group 6\n",
      "Group B\n",
      "Group A\n",
      "Group 5\n",
      "Group C\n",
      "Group D\n",
      "Group F\n",
      "Group E\n",
      "Round of 16\n",
      "Group H\n",
      "Group G\n",
      "Third place\n",
      "Play-off for third place\n",
      "nan\n",
      "None\n"
     ]
    }
   ],
   "source": [
    "print(unique(match['Stage']))"
   ]
  },
  {
   "cell_type": "code",
   "execution_count": 25,
   "metadata": {},
   "outputs": [],
   "source": [
    "def s(i):\n",
    "    if i in(['Preliminary round','nan','None']):\n",
    "        return 0\n",
    "    elif i in (['First round','Group 1','Group 2','Group 3','Group 4','Group 5','Group 6','Group A','Group B','Group C',\n",
    "               'Group D','Group E','Group F','Group H','Group G']):\n",
    "        return 1\n",
    "    elif i in(['Quarter-finals','Round of 16','Semi-finals','Third place','Play-off for third place','Match for third place']):\n",
    "        return 2\n",
    "    else:# Final\n",
    "        return 3"
   ]
  },
  {
   "cell_type": "code",
   "execution_count": 26,
   "metadata": {},
   "outputs": [],
   "source": [
    "match['stage'] = match['Stage'].apply(lambda x: s(x))"
   ]
  },
  {
   "cell_type": "code",
   "execution_count": 27,
   "metadata": {},
   "outputs": [
    {
     "data": {
      "text/plain": [
       "<matplotlib.axes._subplots.AxesSubplot at 0x1a1d265b50>"
      ]
     },
     "execution_count": 27,
     "metadata": {},
     "output_type": "execute_result"
    },
    {
     "data": {
      "image/png": "[encoded data removed]",
      "text/plain": [
       "<Figure size 432x288 with 1 Axes>"
      ]
     },
     "metadata": {
      "needs_background": "light"
     },
     "output_type": "display_data"
    }
   ],
   "source": [
    "sns.countplot(match['stage'])"
   ]
  },
  {
   "cell_type": "code",
   "execution_count": 28,
   "metadata": {},
   "outputs": [
    {
     "data": {
      "text/html": [
       "<div>\n",
       "<style scoped>\n",
       "    .dataframe tbody tr th:only-of-type {\n",
       "        vertical-align: middle;\n",
       "    }\n",
       "\n",
       "    .dataframe tbody tr th {\n",
       "        vertical-align: top;\n",
       "    }\n",
       "\n",
       "    .dataframe thead th {\n",
       "        text-align: right;\n",
       "    }\n",
       "</style>\n",
       "<table border=\"1\" class=\"dataframe\">\n",
       "  <thead>\n",
       "    <tr style=\"text-align: right;\">\n",
       "      <th></th>\n",
       "      <th>Year</th>\n",
       "      <th>Datetime</th>\n",
       "      <th>Stage</th>\n",
       "      <th>Stadium</th>\n",
       "      <th>City</th>\n",
       "      <th>Home Team Name</th>\n",
       "      <th>Home Team Goals</th>\n",
       "      <th>Away Team Goals</th>\n",
       "      <th>Away Team Name</th>\n",
       "      <th>Win conditions</th>\n",
       "      <th>...</th>\n",
       "      <th>MatchID</th>\n",
       "      <th>Home Team Initials</th>\n",
       "      <th>Away Team Initials</th>\n",
       "      <th>Goal Difference</th>\n",
       "      <th>Half-time Goal Difference</th>\n",
       "      <th>Goal total</th>\n",
       "      <th>big_dfference</th>\n",
       "      <th>home_team</th>\n",
       "      <th>away_team</th>\n",
       "      <th>stage</th>\n",
       "    </tr>\n",
       "  </thead>\n",
       "  <tbody>\n",
       "    <tr>\n",
       "      <th>0</th>\n",
       "      <td>1930.0</td>\n",
       "      <td>13 Jul 1930 - 15:00</td>\n",
       "      <td>Group 1</td>\n",
       "      <td>Pocitos</td>\n",
       "      <td>Montevideo</td>\n",
       "      <td>France</td>\n",
       "      <td>4.0</td>\n",
       "      <td>1.0</td>\n",
       "      <td>Mexico</td>\n",
       "      <td></td>\n",
       "      <td>...</td>\n",
       "      <td>1096.0</td>\n",
       "      <td>FRA</td>\n",
       "      <td>MEX</td>\n",
       "      <td>3.0</td>\n",
       "      <td>3.0</td>\n",
       "      <td>5.0</td>\n",
       "      <td>1</td>\n",
       "      <td>1</td>\n",
       "      <td>4</td>\n",
       "      <td>1</td>\n",
       "    </tr>\n",
       "    <tr>\n",
       "      <th>1</th>\n",
       "      <td>1930.0</td>\n",
       "      <td>13 Jul 1930 - 15:00</td>\n",
       "      <td>Group 4</td>\n",
       "      <td>Parque Central</td>\n",
       "      <td>Montevideo</td>\n",
       "      <td>USA</td>\n",
       "      <td>3.0</td>\n",
       "      <td>0.0</td>\n",
       "      <td>Belgium</td>\n",
       "      <td></td>\n",
       "      <td>...</td>\n",
       "      <td>1090.0</td>\n",
       "      <td>USA</td>\n",
       "      <td>BEL</td>\n",
       "      <td>3.0</td>\n",
       "      <td>2.0</td>\n",
       "      <td>3.0</td>\n",
       "      <td>1</td>\n",
       "      <td>4</td>\n",
       "      <td>1</td>\n",
       "      <td>1</td>\n",
       "    </tr>\n",
       "    <tr>\n",
       "      <th>2</th>\n",
       "      <td>1930.0</td>\n",
       "      <td>14 Jul 1930 - 12:45</td>\n",
       "      <td>Group 2</td>\n",
       "      <td>Parque Central</td>\n",
       "      <td>Montevideo</td>\n",
       "      <td>Yugoslavia</td>\n",
       "      <td>2.0</td>\n",
       "      <td>1.0</td>\n",
       "      <td>Brazil</td>\n",
       "      <td></td>\n",
       "      <td>...</td>\n",
       "      <td>1093.0</td>\n",
       "      <td>YUG</td>\n",
       "      <td>BRA</td>\n",
       "      <td>1.0</td>\n",
       "      <td>2.0</td>\n",
       "      <td>3.0</td>\n",
       "      <td>0</td>\n",
       "      <td>1</td>\n",
       "      <td>5</td>\n",
       "      <td>1</td>\n",
       "    </tr>\n",
       "    <tr>\n",
       "      <th>3</th>\n",
       "      <td>1930.0</td>\n",
       "      <td>14 Jul 1930 - 14:50</td>\n",
       "      <td>Group 3</td>\n",
       "      <td>Pocitos</td>\n",
       "      <td>Montevideo</td>\n",
       "      <td>Romania</td>\n",
       "      <td>3.0</td>\n",
       "      <td>1.0</td>\n",
       "      <td>Peru</td>\n",
       "      <td></td>\n",
       "      <td>...</td>\n",
       "      <td>1098.0</td>\n",
       "      <td>ROU</td>\n",
       "      <td>PER</td>\n",
       "      <td>2.0</td>\n",
       "      <td>1.0</td>\n",
       "      <td>4.0</td>\n",
       "      <td>1</td>\n",
       "      <td>1</td>\n",
       "      <td>5</td>\n",
       "      <td>1</td>\n",
       "    </tr>\n",
       "    <tr>\n",
       "      <th>4</th>\n",
       "      <td>1930.0</td>\n",
       "      <td>15 Jul 1930 - 16:00</td>\n",
       "      <td>Group 1</td>\n",
       "      <td>Parque Central</td>\n",
       "      <td>Montevideo</td>\n",
       "      <td>Argentina</td>\n",
       "      <td>1.0</td>\n",
       "      <td>0.0</td>\n",
       "      <td>France</td>\n",
       "      <td></td>\n",
       "      <td>...</td>\n",
       "      <td>1085.0</td>\n",
       "      <td>ARG</td>\n",
       "      <td>FRA</td>\n",
       "      <td>1.0</td>\n",
       "      <td>0.0</td>\n",
       "      <td>1.0</td>\n",
       "      <td>0</td>\n",
       "      <td>5</td>\n",
       "      <td>1</td>\n",
       "      <td>1</td>\n",
       "    </tr>\n",
       "    <tr>\n",
       "      <th>5</th>\n",
       "      <td>1930.0</td>\n",
       "      <td>16 Jul 1930 - 14:45</td>\n",
       "      <td>Group 1</td>\n",
       "      <td>Parque Central</td>\n",
       "      <td>Montevideo</td>\n",
       "      <td>Chile</td>\n",
       "      <td>3.0</td>\n",
       "      <td>0.0</td>\n",
       "      <td>Mexico</td>\n",
       "      <td></td>\n",
       "      <td>...</td>\n",
       "      <td>1095.0</td>\n",
       "      <td>CHI</td>\n",
       "      <td>MEX</td>\n",
       "      <td>3.0</td>\n",
       "      <td>1.0</td>\n",
       "      <td>3.0</td>\n",
       "      <td>1</td>\n",
       "      <td>5</td>\n",
       "      <td>4</td>\n",
       "      <td>1</td>\n",
       "    </tr>\n",
       "    <tr>\n",
       "      <th>6</th>\n",
       "      <td>1930.0</td>\n",
       "      <td>17 Jul 1930 - 12:45</td>\n",
       "      <td>Group 2</td>\n",
       "      <td>Parque Central</td>\n",
       "      <td>Montevideo</td>\n",
       "      <td>Yugoslavia</td>\n",
       "      <td>4.0</td>\n",
       "      <td>0.0</td>\n",
       "      <td>Bolivia</td>\n",
       "      <td></td>\n",
       "      <td>...</td>\n",
       "      <td>1092.0</td>\n",
       "      <td>YUG</td>\n",
       "      <td>BOL</td>\n",
       "      <td>4.0</td>\n",
       "      <td>0.0</td>\n",
       "      <td>4.0</td>\n",
       "      <td>1</td>\n",
       "      <td>1</td>\n",
       "      <td>5</td>\n",
       "      <td>1</td>\n",
       "    </tr>\n",
       "    <tr>\n",
       "      <th>7</th>\n",
       "      <td>1930.0</td>\n",
       "      <td>17 Jul 1930 - 14:45</td>\n",
       "      <td>Group 4</td>\n",
       "      <td>Parque Central</td>\n",
       "      <td>Montevideo</td>\n",
       "      <td>USA</td>\n",
       "      <td>3.0</td>\n",
       "      <td>0.0</td>\n",
       "      <td>Paraguay</td>\n",
       "      <td></td>\n",
       "      <td>...</td>\n",
       "      <td>1097.0</td>\n",
       "      <td>USA</td>\n",
       "      <td>PAR</td>\n",
       "      <td>3.0</td>\n",
       "      <td>2.0</td>\n",
       "      <td>3.0</td>\n",
       "      <td>1</td>\n",
       "      <td>4</td>\n",
       "      <td>5</td>\n",
       "      <td>1</td>\n",
       "    </tr>\n",
       "    <tr>\n",
       "      <th>8</th>\n",
       "      <td>1930.0</td>\n",
       "      <td>18 Jul 1930 - 14:30</td>\n",
       "      <td>Group 3</td>\n",
       "      <td>Estadio Centenario</td>\n",
       "      <td>Montevideo</td>\n",
       "      <td>Uruguay</td>\n",
       "      <td>1.0</td>\n",
       "      <td>0.0</td>\n",
       "      <td>Peru</td>\n",
       "      <td></td>\n",
       "      <td>...</td>\n",
       "      <td>1099.0</td>\n",
       "      <td>URU</td>\n",
       "      <td>PER</td>\n",
       "      <td>1.0</td>\n",
       "      <td>0.0</td>\n",
       "      <td>1.0</td>\n",
       "      <td>0</td>\n",
       "      <td>5</td>\n",
       "      <td>5</td>\n",
       "      <td>1</td>\n",
       "    </tr>\n",
       "    <tr>\n",
       "      <th>9</th>\n",
       "      <td>1930.0</td>\n",
       "      <td>19 Jul 1930 - 12:50</td>\n",
       "      <td>Group 1</td>\n",
       "      <td>Estadio Centenario</td>\n",
       "      <td>Montevideo</td>\n",
       "      <td>Chile</td>\n",
       "      <td>1.0</td>\n",
       "      <td>0.0</td>\n",
       "      <td>France</td>\n",
       "      <td></td>\n",
       "      <td>...</td>\n",
       "      <td>1094.0</td>\n",
       "      <td>CHI</td>\n",
       "      <td>FRA</td>\n",
       "      <td>1.0</td>\n",
       "      <td>0.0</td>\n",
       "      <td>1.0</td>\n",
       "      <td>0</td>\n",
       "      <td>5</td>\n",
       "      <td>1</td>\n",
       "      <td>1</td>\n",
       "    </tr>\n",
       "    <tr>\n",
       "      <th>10</th>\n",
       "      <td>1930.0</td>\n",
       "      <td>19 Jul 1930 - 15:00</td>\n",
       "      <td>Group 1</td>\n",
       "      <td>Estadio Centenario</td>\n",
       "      <td>Montevideo</td>\n",
       "      <td>Argentina</td>\n",
       "      <td>6.0</td>\n",
       "      <td>3.0</td>\n",
       "      <td>Mexico</td>\n",
       "      <td></td>\n",
       "      <td>...</td>\n",
       "      <td>1086.0</td>\n",
       "      <td>ARG</td>\n",
       "      <td>MEX</td>\n",
       "      <td>3.0</td>\n",
       "      <td>2.0</td>\n",
       "      <td>9.0</td>\n",
       "      <td>1</td>\n",
       "      <td>5</td>\n",
       "      <td>4</td>\n",
       "      <td>1</td>\n",
       "    </tr>\n",
       "    <tr>\n",
       "      <th>11</th>\n",
       "      <td>1930.0</td>\n",
       "      <td>20 Jul 1930 - 13:00</td>\n",
       "      <td>Group 2</td>\n",
       "      <td>Estadio Centenario</td>\n",
       "      <td>Montevideo</td>\n",
       "      <td>Brazil</td>\n",
       "      <td>4.0</td>\n",
       "      <td>0.0</td>\n",
       "      <td>Bolivia</td>\n",
       "      <td></td>\n",
       "      <td>...</td>\n",
       "      <td>1091.0</td>\n",
       "      <td>BRA</td>\n",
       "      <td>BOL</td>\n",
       "      <td>4.0</td>\n",
       "      <td>1.0</td>\n",
       "      <td>4.0</td>\n",
       "      <td>1</td>\n",
       "      <td>5</td>\n",
       "      <td>5</td>\n",
       "      <td>1</td>\n",
       "    </tr>\n",
       "    <tr>\n",
       "      <th>12</th>\n",
       "      <td>1930.0</td>\n",
       "      <td>20 Jul 1930 - 15:00</td>\n",
       "      <td>Group 4</td>\n",
       "      <td>Estadio Centenario</td>\n",
       "      <td>Montevideo</td>\n",
       "      <td>Paraguay</td>\n",
       "      <td>1.0</td>\n",
       "      <td>0.0</td>\n",
       "      <td>Belgium</td>\n",
       "      <td></td>\n",
       "      <td>...</td>\n",
       "      <td>1089.0</td>\n",
       "      <td>PAR</td>\n",
       "      <td>BEL</td>\n",
       "      <td>1.0</td>\n",
       "      <td>1.0</td>\n",
       "      <td>1.0</td>\n",
       "      <td>0</td>\n",
       "      <td>5</td>\n",
       "      <td>1</td>\n",
       "      <td>1</td>\n",
       "    </tr>\n",
       "    <tr>\n",
       "      <th>13</th>\n",
       "      <td>1930.0</td>\n",
       "      <td>21 Jul 1930 - 14:50</td>\n",
       "      <td>Group 3</td>\n",
       "      <td>Estadio Centenario</td>\n",
       "      <td>Montevideo</td>\n",
       "      <td>Uruguay</td>\n",
       "      <td>4.0</td>\n",
       "      <td>0.0</td>\n",
       "      <td>Romania</td>\n",
       "      <td></td>\n",
       "      <td>...</td>\n",
       "      <td>1100.0</td>\n",
       "      <td>URU</td>\n",
       "      <td>ROU</td>\n",
       "      <td>4.0</td>\n",
       "      <td>4.0</td>\n",
       "      <td>4.0</td>\n",
       "      <td>1</td>\n",
       "      <td>5</td>\n",
       "      <td>1</td>\n",
       "      <td>1</td>\n",
       "    </tr>\n",
       "    <tr>\n",
       "      <th>14</th>\n",
       "      <td>1930.0</td>\n",
       "      <td>22 Jul 1930 - 14:45</td>\n",
       "      <td>Group 1</td>\n",
       "      <td>Estadio Centenario</td>\n",
       "      <td>Montevideo</td>\n",
       "      <td>Argentina</td>\n",
       "      <td>3.0</td>\n",
       "      <td>1.0</td>\n",
       "      <td>Chile</td>\n",
       "      <td></td>\n",
       "      <td>...</td>\n",
       "      <td>1084.0</td>\n",
       "      <td>ARG</td>\n",
       "      <td>CHI</td>\n",
       "      <td>2.0</td>\n",
       "      <td>1.0</td>\n",
       "      <td>4.0</td>\n",
       "      <td>1</td>\n",
       "      <td>5</td>\n",
       "      <td>5</td>\n",
       "      <td>1</td>\n",
       "    </tr>\n",
       "    <tr>\n",
       "      <th>15</th>\n",
       "      <td>1930.0</td>\n",
       "      <td>26 Jul 1930 - 14:45</td>\n",
       "      <td>Semi-finals</td>\n",
       "      <td>Estadio Centenario</td>\n",
       "      <td>Montevideo</td>\n",
       "      <td>Argentina</td>\n",
       "      <td>6.0</td>\n",
       "      <td>1.0</td>\n",
       "      <td>USA</td>\n",
       "      <td></td>\n",
       "      <td>...</td>\n",
       "      <td>1088.0</td>\n",
       "      <td>ARG</td>\n",
       "      <td>USA</td>\n",
       "      <td>5.0</td>\n",
       "      <td>1.0</td>\n",
       "      <td>7.0</td>\n",
       "      <td>1</td>\n",
       "      <td>5</td>\n",
       "      <td>4</td>\n",
       "      <td>2</td>\n",
       "    </tr>\n",
       "    <tr>\n",
       "      <th>16</th>\n",
       "      <td>1930.0</td>\n",
       "      <td>27 Jul 1930 - 14:45</td>\n",
       "      <td>Semi-finals</td>\n",
       "      <td>Estadio Centenario</td>\n",
       "      <td>Montevideo</td>\n",
       "      <td>Uruguay</td>\n",
       "      <td>6.0</td>\n",
       "      <td>1.0</td>\n",
       "      <td>Yugoslavia</td>\n",
       "      <td></td>\n",
       "      <td>...</td>\n",
       "      <td>1101.0</td>\n",
       "      <td>URU</td>\n",
       "      <td>YUG</td>\n",
       "      <td>5.0</td>\n",
       "      <td>2.0</td>\n",
       "      <td>7.0</td>\n",
       "      <td>1</td>\n",
       "      <td>5</td>\n",
       "      <td>1</td>\n",
       "      <td>2</td>\n",
       "    </tr>\n",
       "    <tr>\n",
       "      <th>17</th>\n",
       "      <td>1930.0</td>\n",
       "      <td>30 Jul 1930 - 14:15</td>\n",
       "      <td>Final</td>\n",
       "      <td>Estadio Centenario</td>\n",
       "      <td>Montevideo</td>\n",
       "      <td>Uruguay</td>\n",
       "      <td>4.0</td>\n",
       "      <td>2.0</td>\n",
       "      <td>Argentina</td>\n",
       "      <td></td>\n",
       "      <td>...</td>\n",
       "      <td>1087.0</td>\n",
       "      <td>URU</td>\n",
       "      <td>ARG</td>\n",
       "      <td>2.0</td>\n",
       "      <td>1.0</td>\n",
       "      <td>6.0</td>\n",
       "      <td>1</td>\n",
       "      <td>5</td>\n",
       "      <td>5</td>\n",
       "      <td>3</td>\n",
       "    </tr>\n",
       "    <tr>\n",
       "      <th>18</th>\n",
       "      <td>1934.0</td>\n",
       "      <td>27 May 1934 - 16:30</td>\n",
       "      <td>Preliminary round</td>\n",
       "      <td>Stadio Benito Mussolini</td>\n",
       "      <td>Turin</td>\n",
       "      <td>Austria</td>\n",
       "      <td>3.0</td>\n",
       "      <td>2.0</td>\n",
       "      <td>France</td>\n",
       "      <td>Austria win after extra time</td>\n",
       "      <td>...</td>\n",
       "      <td>1104.0</td>\n",
       "      <td>AUT</td>\n",
       "      <td>FRA</td>\n",
       "      <td>1.0</td>\n",
       "      <td>0.0</td>\n",
       "      <td>5.0</td>\n",
       "      <td>0</td>\n",
       "      <td>1</td>\n",
       "      <td>1</td>\n",
       "      <td>0</td>\n",
       "    </tr>\n",
       "    <tr>\n",
       "      <th>19</th>\n",
       "      <td>1934.0</td>\n",
       "      <td>27 May 1934 - 16:30</td>\n",
       "      <td>Preliminary round</td>\n",
       "      <td>Giorgio Ascarelli</td>\n",
       "      <td>Naples</td>\n",
       "      <td>Hungary</td>\n",
       "      <td>4.0</td>\n",
       "      <td>2.0</td>\n",
       "      <td>Egypt</td>\n",
       "      <td></td>\n",
       "      <td>...</td>\n",
       "      <td>1119.0</td>\n",
       "      <td>HUN</td>\n",
       "      <td>EGY</td>\n",
       "      <td>2.0</td>\n",
       "      <td>0.0</td>\n",
       "      <td>6.0</td>\n",
       "      <td>1</td>\n",
       "      <td>1</td>\n",
       "      <td>3</td>\n",
       "      <td>0</td>\n",
       "    </tr>\n",
       "    <tr>\n",
       "      <th>20</th>\n",
       "      <td>1934.0</td>\n",
       "      <td>27 May 1934 - 16:30</td>\n",
       "      <td>Preliminary round</td>\n",
       "      <td>San Siro</td>\n",
       "      <td>Milan</td>\n",
       "      <td>Switzerland</td>\n",
       "      <td>3.0</td>\n",
       "      <td>2.0</td>\n",
       "      <td>Netherlands</td>\n",
       "      <td></td>\n",
       "      <td>...</td>\n",
       "      <td>1133.0</td>\n",
       "      <td>SUI</td>\n",
       "      <td>NED</td>\n",
       "      <td>1.0</td>\n",
       "      <td>1.0</td>\n",
       "      <td>5.0</td>\n",
       "      <td>0</td>\n",
       "      <td>1</td>\n",
       "      <td>1</td>\n",
       "      <td>0</td>\n",
       "    </tr>\n",
       "    <tr>\n",
       "      <th>21</th>\n",
       "      <td>1934.0</td>\n",
       "      <td>27 May 1934 - 16:30</td>\n",
       "      <td>Preliminary round</td>\n",
       "      <td>Littorale</td>\n",
       "      <td>Bologna</td>\n",
       "      <td>Sweden</td>\n",
       "      <td>3.0</td>\n",
       "      <td>2.0</td>\n",
       "      <td>Argentina</td>\n",
       "      <td></td>\n",
       "      <td>...</td>\n",
       "      <td>1102.0</td>\n",
       "      <td>SWE</td>\n",
       "      <td>ARG</td>\n",
       "      <td>1.0</td>\n",
       "      <td>0.0</td>\n",
       "      <td>5.0</td>\n",
       "      <td>0</td>\n",
       "      <td>1</td>\n",
       "      <td>5</td>\n",
       "      <td>0</td>\n",
       "    </tr>\n",
       "    <tr>\n",
       "      <th>22</th>\n",
       "      <td>1934.0</td>\n",
       "      <td>27 May 1934 - 16:30</td>\n",
       "      <td>Preliminary round</td>\n",
       "      <td>Giovanni Berta</td>\n",
       "      <td>Florence</td>\n",
       "      <td>Germany</td>\n",
       "      <td>5.0</td>\n",
       "      <td>2.0</td>\n",
       "      <td>Belgium</td>\n",
       "      <td></td>\n",
       "      <td>...</td>\n",
       "      <td>1108.0</td>\n",
       "      <td>GER</td>\n",
       "      <td>BEL</td>\n",
       "      <td>3.0</td>\n",
       "      <td>1.0</td>\n",
       "      <td>7.0</td>\n",
       "      <td>1</td>\n",
       "      <td>1</td>\n",
       "      <td>1</td>\n",
       "      <td>0</td>\n",
       "    </tr>\n",
       "    <tr>\n",
       "      <th>23</th>\n",
       "      <td>1934.0</td>\n",
       "      <td>27 May 1934 - 16:30</td>\n",
       "      <td>Preliminary round</td>\n",
       "      <td>Luigi Ferraris</td>\n",
       "      <td>Genoa</td>\n",
       "      <td>Spain</td>\n",
       "      <td>3.0</td>\n",
       "      <td>1.0</td>\n",
       "      <td>Brazil</td>\n",
       "      <td></td>\n",
       "      <td>...</td>\n",
       "      <td>1111.0</td>\n",
       "      <td>ESP</td>\n",
       "      <td>BRA</td>\n",
       "      <td>2.0</td>\n",
       "      <td>3.0</td>\n",
       "      <td>4.0</td>\n",
       "      <td>1</td>\n",
       "      <td>1</td>\n",
       "      <td>5</td>\n",
       "      <td>0</td>\n",
       "    </tr>\n",
       "    <tr>\n",
       "      <th>24</th>\n",
       "      <td>1934.0</td>\n",
       "      <td>27 May 1934 - 16:30</td>\n",
       "      <td>Preliminary round</td>\n",
       "      <td>Nazionale PNF</td>\n",
       "      <td>Rome</td>\n",
       "      <td>Italy</td>\n",
       "      <td>7.0</td>\n",
       "      <td>1.0</td>\n",
       "      <td>USA</td>\n",
       "      <td></td>\n",
       "      <td>...</td>\n",
       "      <td>1135.0</td>\n",
       "      <td>ITA</td>\n",
       "      <td>USA</td>\n",
       "      <td>6.0</td>\n",
       "      <td>3.0</td>\n",
       "      <td>8.0</td>\n",
       "      <td>1</td>\n",
       "      <td>1</td>\n",
       "      <td>4</td>\n",
       "      <td>0</td>\n",
       "    </tr>\n",
       "    <tr>\n",
       "      <th>25</th>\n",
       "      <td>1934.0</td>\n",
       "      <td>27 May 1934 - 16:30</td>\n",
       "      <td>Preliminary round</td>\n",
       "      <td>Littorio</td>\n",
       "      <td>Trieste</td>\n",
       "      <td>Czechoslovakia</td>\n",
       "      <td>2.0</td>\n",
       "      <td>1.0</td>\n",
       "      <td>Romania</td>\n",
       "      <td></td>\n",
       "      <td>...</td>\n",
       "      <td>1141.0</td>\n",
       "      <td>TCH</td>\n",
       "      <td>ROU</td>\n",
       "      <td>1.0</td>\n",
       "      <td>1.0</td>\n",
       "      <td>3.0</td>\n",
       "      <td>0</td>\n",
       "      <td>1</td>\n",
       "      <td>1</td>\n",
       "      <td>0</td>\n",
       "    </tr>\n",
       "    <tr>\n",
       "      <th>26</th>\n",
       "      <td>1934.0</td>\n",
       "      <td>31 May 1934 - 16:30</td>\n",
       "      <td>Quarter-finals</td>\n",
       "      <td>Stadio Benito Mussolini</td>\n",
       "      <td>Turin</td>\n",
       "      <td>Czechoslovakia</td>\n",
       "      <td>3.0</td>\n",
       "      <td>2.0</td>\n",
       "      <td>Switzerland</td>\n",
       "      <td></td>\n",
       "      <td>...</td>\n",
       "      <td>1143.0</td>\n",
       "      <td>TCH</td>\n",
       "      <td>SUI</td>\n",
       "      <td>1.0</td>\n",
       "      <td>0.0</td>\n",
       "      <td>5.0</td>\n",
       "      <td>0</td>\n",
       "      <td>1</td>\n",
       "      <td>1</td>\n",
       "      <td>2</td>\n",
       "    </tr>\n",
       "    <tr>\n",
       "      <th>27</th>\n",
       "      <td>1934.0</td>\n",
       "      <td>31 May 1934 - 16:30</td>\n",
       "      <td>Quarter-finals</td>\n",
       "      <td>San Siro</td>\n",
       "      <td>Milan</td>\n",
       "      <td>Germany</td>\n",
       "      <td>2.0</td>\n",
       "      <td>1.0</td>\n",
       "      <td>Sweden</td>\n",
       "      <td></td>\n",
       "      <td>...</td>\n",
       "      <td>1129.0</td>\n",
       "      <td>GER</td>\n",
       "      <td>SWE</td>\n",
       "      <td>1.0</td>\n",
       "      <td>0.0</td>\n",
       "      <td>3.0</td>\n",
       "      <td>0</td>\n",
       "      <td>1</td>\n",
       "      <td>1</td>\n",
       "      <td>2</td>\n",
       "    </tr>\n",
       "    <tr>\n",
       "      <th>28</th>\n",
       "      <td>1934.0</td>\n",
       "      <td>31 May 1934 - 16:30</td>\n",
       "      <td>Quarter-finals</td>\n",
       "      <td>Giovanni Berta</td>\n",
       "      <td>Florence</td>\n",
       "      <td>Italy</td>\n",
       "      <td>1.0</td>\n",
       "      <td>1.0</td>\n",
       "      <td>Spain</td>\n",
       "      <td></td>\n",
       "      <td>...</td>\n",
       "      <td>1122.0</td>\n",
       "      <td>ITA</td>\n",
       "      <td>ESP</td>\n",
       "      <td>0.0</td>\n",
       "      <td>0.0</td>\n",
       "      <td>2.0</td>\n",
       "      <td>0</td>\n",
       "      <td>1</td>\n",
       "      <td>1</td>\n",
       "      <td>2</td>\n",
       "    </tr>\n",
       "    <tr>\n",
       "      <th>29</th>\n",
       "      <td>1934.0</td>\n",
       "      <td>31 May 1934 - 16:30</td>\n",
       "      <td>Quarter-finals</td>\n",
       "      <td>Littorale</td>\n",
       "      <td>Bologna</td>\n",
       "      <td>Austria</td>\n",
       "      <td>2.0</td>\n",
       "      <td>1.0</td>\n",
       "      <td>Hungary</td>\n",
       "      <td></td>\n",
       "      <td>...</td>\n",
       "      <td>1106.0</td>\n",
       "      <td>AUT</td>\n",
       "      <td>HUN</td>\n",
       "      <td>1.0</td>\n",
       "      <td>1.0</td>\n",
       "      <td>3.0</td>\n",
       "      <td>0</td>\n",
       "      <td>1</td>\n",
       "      <td>1</td>\n",
       "      <td>2</td>\n",
       "    </tr>\n",
       "    <tr>\n",
       "      <th>30</th>\n",
       "      <td>1934.0</td>\n",
       "      <td>01 Jun 1934 - 16:30</td>\n",
       "      <td>Quarter-finals</td>\n",
       "      <td>Giovanni Berta</td>\n",
       "      <td>Florence</td>\n",
       "      <td>Italy</td>\n",
       "      <td>1.0</td>\n",
       "      <td>0.0</td>\n",
       "      <td>Spain</td>\n",
       "      <td></td>\n",
       "      <td>...</td>\n",
       "      <td>1123.0</td>\n",
       "      <td>ITA</td>\n",
       "      <td>ESP</td>\n",
       "      <td>1.0</td>\n",
       "      <td>1.0</td>\n",
       "      <td>1.0</td>\n",
       "      <td>0</td>\n",
       "      <td>1</td>\n",
       "      <td>1</td>\n",
       "      <td>2</td>\n",
       "    </tr>\n",
       "    <tr>\n",
       "      <th>31</th>\n",
       "      <td>1934.0</td>\n",
       "      <td>03 Jun 1934 - 16:30</td>\n",
       "      <td>Semi-finals</td>\n",
       "      <td>San Siro</td>\n",
       "      <td>Milan</td>\n",
       "      <td>Italy</td>\n",
       "      <td>1.0</td>\n",
       "      <td>0.0</td>\n",
       "      <td>Austria</td>\n",
       "      <td></td>\n",
       "      <td>...</td>\n",
       "      <td>1107.0</td>\n",
       "      <td>ITA</td>\n",
       "      <td>AUT</td>\n",
       "      <td>1.0</td>\n",
       "      <td>1.0</td>\n",
       "      <td>1.0</td>\n",
       "      <td>0</td>\n",
       "      <td>1</td>\n",
       "      <td>1</td>\n",
       "      <td>2</td>\n",
       "    </tr>\n",
       "    <tr>\n",
       "      <th>32</th>\n",
       "      <td>1934.0</td>\n",
       "      <td>03 Jun 1934 - 16:30</td>\n",
       "      <td>Semi-finals</td>\n",
       "      <td>Nazionale PNF</td>\n",
       "      <td>Rome</td>\n",
       "      <td>Czechoslovakia</td>\n",
       "      <td>3.0</td>\n",
       "      <td>1.0</td>\n",
       "      <td>Germany</td>\n",
       "      <td></td>\n",
       "      <td>...</td>\n",
       "      <td>1130.0</td>\n",
       "      <td>TCH</td>\n",
       "      <td>GER</td>\n",
       "      <td>2.0</td>\n",
       "      <td>1.0</td>\n",
       "      <td>4.0</td>\n",
       "      <td>1</td>\n",
       "      <td>1</td>\n",
       "      <td>1</td>\n",
       "      <td>2</td>\n",
       "    </tr>\n",
       "    <tr>\n",
       "      <th>33</th>\n",
       "      <td>1934.0</td>\n",
       "      <td>07 Jun 1934 - 18:00</td>\n",
       "      <td>Match for third place</td>\n",
       "      <td>Giorgio Ascarelli</td>\n",
       "      <td>Naples</td>\n",
       "      <td>Germany</td>\n",
       "      <td>3.0</td>\n",
       "      <td>2.0</td>\n",
       "      <td>Austria</td>\n",
       "      <td></td>\n",
       "      <td>...</td>\n",
       "      <td>1105.0</td>\n",
       "      <td>GER</td>\n",
       "      <td>AUT</td>\n",
       "      <td>1.0</td>\n",
       "      <td>2.0</td>\n",
       "      <td>5.0</td>\n",
       "      <td>0</td>\n",
       "      <td>1</td>\n",
       "      <td>1</td>\n",
       "      <td>2</td>\n",
       "    </tr>\n",
       "    <tr>\n",
       "      <th>34</th>\n",
       "      <td>1934.0</td>\n",
       "      <td>10 Jun 1934 - 17:30</td>\n",
       "      <td>Final</td>\n",
       "      <td>Nazionale PNF</td>\n",
       "      <td>Rome</td>\n",
       "      <td>Italy</td>\n",
       "      <td>2.0</td>\n",
       "      <td>1.0</td>\n",
       "      <td>Czechoslovakia</td>\n",
       "      <td>Italy win after extra time</td>\n",
       "      <td>...</td>\n",
       "      <td>1134.0</td>\n",
       "      <td>ITA</td>\n",
       "      <td>TCH</td>\n",
       "      <td>1.0</td>\n",
       "      <td>0.0</td>\n",
       "      <td>3.0</td>\n",
       "      <td>0</td>\n",
       "      <td>1</td>\n",
       "      <td>1</td>\n",
       "      <td>3</td>\n",
       "    </tr>\n",
       "    <tr>\n",
       "      <th>35</th>\n",
       "      <td>1938.0</td>\n",
       "      <td>04 Jun 1938 - 17:00</td>\n",
       "      <td>First round</td>\n",
       "      <td>Parc des Princes</td>\n",
       "      <td>Paris</td>\n",
       "      <td>Switzerland</td>\n",
       "      <td>1.0</td>\n",
       "      <td>1.0</td>\n",
       "      <td>Germany</td>\n",
       "      <td></td>\n",
       "      <td>...</td>\n",
       "      <td>1165.0</td>\n",
       "      <td>SUI</td>\n",
       "      <td>GER</td>\n",
       "      <td>0.0</td>\n",
       "      <td>0.0</td>\n",
       "      <td>2.0</td>\n",
       "      <td>0</td>\n",
       "      <td>1</td>\n",
       "      <td>1</td>\n",
       "      <td>1</td>\n",
       "    </tr>\n",
       "    <tr>\n",
       "      <th>36</th>\n",
       "      <td>1938.0</td>\n",
       "      <td>05 Jun 1938 - 17:00</td>\n",
       "      <td>First round</td>\n",
       "      <td>Velodrome Municipale</td>\n",
       "      <td>Reims</td>\n",
       "      <td>Hungary</td>\n",
       "      <td>6.0</td>\n",
       "      <td>0.0</td>\n",
       "      <td>Dutch East Indies</td>\n",
       "      <td></td>\n",
       "      <td>...</td>\n",
       "      <td>1173.0</td>\n",
       "      <td>HUN</td>\n",
       "      <td>INH</td>\n",
       "      <td>6.0</td>\n",
       "      <td>4.0</td>\n",
       "      <td>6.0</td>\n",
       "      <td>1</td>\n",
       "      <td>1</td>\n",
       "      <td>2</td>\n",
       "      <td>1</td>\n",
       "    </tr>\n",
       "    <tr>\n",
       "      <th>37</th>\n",
       "      <td>1938.0</td>\n",
       "      <td>05 Jun 1938 - 17:00</td>\n",
       "      <td>First round</td>\n",
       "      <td>Stade Olympique</td>\n",
       "      <td>Colombes</td>\n",
       "      <td>France</td>\n",
       "      <td>3.0</td>\n",
       "      <td>1.0</td>\n",
       "      <td>Belgium</td>\n",
       "      <td></td>\n",
       "      <td>...</td>\n",
       "      <td>1146.0</td>\n",
       "      <td>FRA</td>\n",
       "      <td>BEL</td>\n",
       "      <td>2.0</td>\n",
       "      <td>1.0</td>\n",
       "      <td>4.0</td>\n",
       "      <td>1</td>\n",
       "      <td>1</td>\n",
       "      <td>1</td>\n",
       "      <td>1</td>\n",
       "    </tr>\n",
       "    <tr>\n",
       "      <th>38</th>\n",
       "      <td>1938.0</td>\n",
       "      <td>05 Jun 1938 - 17:00</td>\n",
       "      <td>First round</td>\n",
       "      <td>Stade Municipal</td>\n",
       "      <td>Toulouse</td>\n",
       "      <td>Cuba</td>\n",
       "      <td>3.0</td>\n",
       "      <td>3.0</td>\n",
       "      <td>Romania</td>\n",
       "      <td></td>\n",
       "      <td>...</td>\n",
       "      <td>1156.0</td>\n",
       "      <td>CUB</td>\n",
       "      <td>ROU</td>\n",
       "      <td>0.0</td>\n",
       "      <td>0.0</td>\n",
       "      <td>6.0</td>\n",
       "      <td>0</td>\n",
       "      <td>4</td>\n",
       "      <td>1</td>\n",
       "      <td>1</td>\n",
       "    </tr>\n",
       "    <tr>\n",
       "      <th>39</th>\n",
       "      <td>1938.0</td>\n",
       "      <td>05 Jun 1938 - 17:00</td>\n",
       "      <td>First round</td>\n",
       "      <td>Stade V�lodrome</td>\n",
       "      <td>Marseilles</td>\n",
       "      <td>Italy</td>\n",
       "      <td>2.0</td>\n",
       "      <td>1.0</td>\n",
       "      <td>Norway</td>\n",
       "      <td>Italy win after extra time</td>\n",
       "      <td>...</td>\n",
       "      <td>1179.0</td>\n",
       "      <td>ITA</td>\n",
       "      <td>NOR</td>\n",
       "      <td>1.0</td>\n",
       "      <td>0.0</td>\n",
       "      <td>3.0</td>\n",
       "      <td>0</td>\n",
       "      <td>1</td>\n",
       "      <td>1</td>\n",
       "      <td>1</td>\n",
       "    </tr>\n",
       "    <tr>\n",
       "      <th>40</th>\n",
       "      <td>1938.0</td>\n",
       "      <td>05 Jun 1938 - 17:30</td>\n",
       "      <td>First round</td>\n",
       "      <td>Stade de la Meinau</td>\n",
       "      <td>Strasbourg</td>\n",
       "      <td>Brazil</td>\n",
       "      <td>6.0</td>\n",
       "      <td>5.0</td>\n",
       "      <td>Poland</td>\n",
       "      <td>Brazil win after extra time</td>\n",
       "      <td>...</td>\n",
       "      <td>1150.0</td>\n",
       "      <td>BRA</td>\n",
       "      <td>POL</td>\n",
       "      <td>1.0</td>\n",
       "      <td>0.0</td>\n",
       "      <td>11.0</td>\n",
       "      <td>0</td>\n",
       "      <td>5</td>\n",
       "      <td>1</td>\n",
       "      <td>1</td>\n",
       "    </tr>\n",
       "    <tr>\n",
       "      <th>41</th>\n",
       "      <td>1938.0</td>\n",
       "      <td>05 Jun 1938 - 18:30</td>\n",
       "      <td>First round</td>\n",
       "      <td>Cavee Verte</td>\n",
       "      <td>Le Havre</td>\n",
       "      <td>Czechoslovakia</td>\n",
       "      <td>3.0</td>\n",
       "      <td>0.0</td>\n",
       "      <td>Netherlands</td>\n",
       "      <td>Czechoslovakia win after extra time</td>\n",
       "      <td>...</td>\n",
       "      <td>1172.0</td>\n",
       "      <td>TCH</td>\n",
       "      <td>NED</td>\n",
       "      <td>3.0</td>\n",
       "      <td>0.0</td>\n",
       "      <td>3.0</td>\n",
       "      <td>1</td>\n",
       "      <td>1</td>\n",
       "      <td>1</td>\n",
       "      <td>1</td>\n",
       "    </tr>\n",
       "    <tr>\n",
       "      <th>42</th>\n",
       "      <td>1938.0</td>\n",
       "      <td>09 Jun 1938 - 18:00</td>\n",
       "      <td>First round</td>\n",
       "      <td>Stade Municipal</td>\n",
       "      <td>Toulouse</td>\n",
       "      <td>Cuba</td>\n",
       "      <td>2.0</td>\n",
       "      <td>1.0</td>\n",
       "      <td>Romania</td>\n",
       "      <td></td>\n",
       "      <td>...</td>\n",
       "      <td>1157.0</td>\n",
       "      <td>CUB</td>\n",
       "      <td>ROU</td>\n",
       "      <td>1.0</td>\n",
       "      <td>1.0</td>\n",
       "      <td>3.0</td>\n",
       "      <td>0</td>\n",
       "      <td>4</td>\n",
       "      <td>1</td>\n",
       "      <td>1</td>\n",
       "    </tr>\n",
       "    <tr>\n",
       "      <th>43</th>\n",
       "      <td>1938.0</td>\n",
       "      <td>09 Jun 1938 - 18:00</td>\n",
       "      <td>First round</td>\n",
       "      <td>Parc des Princes</td>\n",
       "      <td>Paris</td>\n",
       "      <td>Switzerland</td>\n",
       "      <td>4.0</td>\n",
       "      <td>2.0</td>\n",
       "      <td>Germany</td>\n",
       "      <td></td>\n",
       "      <td>...</td>\n",
       "      <td>1166.0</td>\n",
       "      <td>SUI</td>\n",
       "      <td>GER</td>\n",
       "      <td>2.0</td>\n",
       "      <td>1.0</td>\n",
       "      <td>6.0</td>\n",
       "      <td>1</td>\n",
       "      <td>1</td>\n",
       "      <td>1</td>\n",
       "      <td>1</td>\n",
       "    </tr>\n",
       "    <tr>\n",
       "      <th>44</th>\n",
       "      <td>1938.0</td>\n",
       "      <td>12 Jun 1938 - 17:00</td>\n",
       "      <td>Quarter-finals</td>\n",
       "      <td>Stade du Parc Lescure</td>\n",
       "      <td>Bordeaux</td>\n",
       "      <td>Brazil</td>\n",
       "      <td>1.0</td>\n",
       "      <td>1.0</td>\n",
       "      <td>Czechoslovakia</td>\n",
       "      <td></td>\n",
       "      <td>...</td>\n",
       "      <td>1152.0</td>\n",
       "      <td>BRA</td>\n",
       "      <td>TCH</td>\n",
       "      <td>0.0</td>\n",
       "      <td>0.0</td>\n",
       "      <td>2.0</td>\n",
       "      <td>0</td>\n",
       "      <td>5</td>\n",
       "      <td>1</td>\n",
       "      <td>2</td>\n",
       "    </tr>\n",
       "    <tr>\n",
       "      <th>45</th>\n",
       "      <td>1938.0</td>\n",
       "      <td>12 Jun 1938 - 17:00</td>\n",
       "      <td>Quarter-finals</td>\n",
       "      <td>Victor Boucquey</td>\n",
       "      <td>Lille</td>\n",
       "      <td>Hungary</td>\n",
       "      <td>2.0</td>\n",
       "      <td>0.0</td>\n",
       "      <td>Switzerland</td>\n",
       "      <td></td>\n",
       "      <td>...</td>\n",
       "      <td>1175.0</td>\n",
       "      <td>HUN</td>\n",
       "      <td>SUI</td>\n",
       "      <td>2.0</td>\n",
       "      <td>1.0</td>\n",
       "      <td>2.0</td>\n",
       "      <td>1</td>\n",
       "      <td>1</td>\n",
       "      <td>1</td>\n",
       "      <td>2</td>\n",
       "    </tr>\n",
       "    <tr>\n",
       "      <th>46</th>\n",
       "      <td>1938.0</td>\n",
       "      <td>12 Jun 1938 - 17:00</td>\n",
       "      <td>Quarter-finals</td>\n",
       "      <td>Fort Carree</td>\n",
       "      <td>Antibes</td>\n",
       "      <td>Sweden</td>\n",
       "      <td>8.0</td>\n",
       "      <td>0.0</td>\n",
       "      <td>Cuba</td>\n",
       "      <td></td>\n",
       "      <td>...</td>\n",
       "      <td>1158.0</td>\n",
       "      <td>SWE</td>\n",
       "      <td>CUB</td>\n",
       "      <td>8.0</td>\n",
       "      <td>4.0</td>\n",
       "      <td>8.0</td>\n",
       "      <td>1</td>\n",
       "      <td>1</td>\n",
       "      <td>4</td>\n",
       "      <td>2</td>\n",
       "    </tr>\n",
       "    <tr>\n",
       "      <th>47</th>\n",
       "      <td>1938.0</td>\n",
       "      <td>12 Jun 1938 - 17:00</td>\n",
       "      <td>Quarter-finals</td>\n",
       "      <td>Stade Olympique</td>\n",
       "      <td>Colombes</td>\n",
       "      <td>Italy</td>\n",
       "      <td>3.0</td>\n",
       "      <td>1.0</td>\n",
       "      <td>France</td>\n",
       "      <td></td>\n",
       "      <td>...</td>\n",
       "      <td>1164.0</td>\n",
       "      <td>ITA</td>\n",
       "      <td>FRA</td>\n",
       "      <td>2.0</td>\n",
       "      <td>0.0</td>\n",
       "      <td>4.0</td>\n",
       "      <td>1</td>\n",
       "      <td>1</td>\n",
       "      <td>1</td>\n",
       "      <td>2</td>\n",
       "    </tr>\n",
       "    <tr>\n",
       "      <th>48</th>\n",
       "      <td>1938.0</td>\n",
       "      <td>14 Jun 1938 - 18:00</td>\n",
       "      <td>Quarter-finals</td>\n",
       "      <td>Stade du Parc Lescure</td>\n",
       "      <td>Bordeaux</td>\n",
       "      <td>Brazil</td>\n",
       "      <td>2.0</td>\n",
       "      <td>1.0</td>\n",
       "      <td>Czechoslovakia</td>\n",
       "      <td></td>\n",
       "      <td>...</td>\n",
       "      <td>1153.0</td>\n",
       "      <td>BRA</td>\n",
       "      <td>TCH</td>\n",
       "      <td>1.0</td>\n",
       "      <td>1.0</td>\n",
       "      <td>3.0</td>\n",
       "      <td>0</td>\n",
       "      <td>5</td>\n",
       "      <td>1</td>\n",
       "      <td>2</td>\n",
       "    </tr>\n",
       "    <tr>\n",
       "      <th>49</th>\n",
       "      <td>1938.0</td>\n",
       "      <td>16 Jun 1938 - 18:00</td>\n",
       "      <td>Semi-finals</td>\n",
       "      <td>Parc des Princes</td>\n",
       "      <td>Paris</td>\n",
       "      <td>Hungary</td>\n",
       "      <td>5.0</td>\n",
       "      <td>1.0</td>\n",
       "      <td>Sweden</td>\n",
       "      <td></td>\n",
       "      <td>...</td>\n",
       "      <td>1176.0</td>\n",
       "      <td>HUN</td>\n",
       "      <td>SWE</td>\n",
       "      <td>4.0</td>\n",
       "      <td>2.0</td>\n",
       "      <td>6.0</td>\n",
       "      <td>1</td>\n",
       "      <td>1</td>\n",
       "      <td>1</td>\n",
       "      <td>2</td>\n",
       "    </tr>\n",
       "    <tr>\n",
       "      <th>50</th>\n",
       "      <td>1938.0</td>\n",
       "      <td>16 Jun 1938 - 18:00</td>\n",
       "      <td>Semi-finals</td>\n",
       "      <td>Stade V�lodrome</td>\n",
       "      <td>Marseilles</td>\n",
       "      <td>Italy</td>\n",
       "      <td>2.0</td>\n",
       "      <td>1.0</td>\n",
       "      <td>Brazil</td>\n",
       "      <td></td>\n",
       "      <td>...</td>\n",
       "      <td>1149.0</td>\n",
       "      <td>ITA</td>\n",
       "      <td>BRA</td>\n",
       "      <td>1.0</td>\n",
       "      <td>0.0</td>\n",
       "      <td>3.0</td>\n",
       "      <td>0</td>\n",
       "      <td>1</td>\n",
       "      <td>5</td>\n",
       "      <td>2</td>\n",
       "    </tr>\n",
       "    <tr>\n",
       "      <th>51</th>\n",
       "      <td>1938.0</td>\n",
       "      <td>19 Jun 1938 - 17:00</td>\n",
       "      <td>Match for third place</td>\n",
       "      <td>Stade du Parc Lescure</td>\n",
       "      <td>Bordeaux</td>\n",
       "      <td>Brazil</td>\n",
       "      <td>4.0</td>\n",
       "      <td>2.0</td>\n",
       "      <td>Sweden</td>\n",
       "      <td></td>\n",
       "      <td>...</td>\n",
       "      <td>1151.0</td>\n",
       "      <td>BRA</td>\n",
       "      <td>SWE</td>\n",
       "      <td>2.0</td>\n",
       "      <td>1.0</td>\n",
       "      <td>6.0</td>\n",
       "      <td>1</td>\n",
       "      <td>5</td>\n",
       "      <td>1</td>\n",
       "      <td>2</td>\n",
       "    </tr>\n",
       "    <tr>\n",
       "      <th>52</th>\n",
       "      <td>1938.0</td>\n",
       "      <td>19 Jun 1938 - 17:00</td>\n",
       "      <td>Final</td>\n",
       "      <td>Stade Olympique</td>\n",
       "      <td>Colombes</td>\n",
       "      <td>Italy</td>\n",
       "      <td>4.0</td>\n",
       "      <td>2.0</td>\n",
       "      <td>Hungary</td>\n",
       "      <td></td>\n",
       "      <td>...</td>\n",
       "      <td>1174.0</td>\n",
       "      <td>ITA</td>\n",
       "      <td>HUN</td>\n",
       "      <td>2.0</td>\n",
       "      <td>2.0</td>\n",
       "      <td>6.0</td>\n",
       "      <td>1</td>\n",
       "      <td>1</td>\n",
       "      <td>1</td>\n",
       "      <td>3</td>\n",
       "    </tr>\n",
       "    <tr>\n",
       "      <th>53</th>\n",
       "      <td>1950.0</td>\n",
       "      <td>24 Jun 1950 - 15:00</td>\n",
       "      <td>Group 1</td>\n",
       "      <td>Maracan� - Est�dio Jornalista M�rio Filho</td>\n",
       "      <td>Rio De Janeiro</td>\n",
       "      <td>Brazil</td>\n",
       "      <td>4.0</td>\n",
       "      <td>0.0</td>\n",
       "      <td>Mexico</td>\n",
       "      <td></td>\n",
       "      <td>...</td>\n",
       "      <td>1187.0</td>\n",
       "      <td>BRA</td>\n",
       "      <td>MEX</td>\n",
       "      <td>4.0</td>\n",
       "      <td>1.0</td>\n",
       "      <td>4.0</td>\n",
       "      <td>1</td>\n",
       "      <td>5</td>\n",
       "      <td>4</td>\n",
       "      <td>1</td>\n",
       "    </tr>\n",
       "    <tr>\n",
       "      <th>54</th>\n",
       "      <td>1950.0</td>\n",
       "      <td>25 Jun 1950 - 15:00</td>\n",
       "      <td>Group 2</td>\n",
       "      <td>Maracan� - Est�dio Jornalista M�rio Filho</td>\n",
       "      <td>Rio De Janeiro</td>\n",
       "      <td>England</td>\n",
       "      <td>2.0</td>\n",
       "      <td>0.0</td>\n",
       "      <td>Chile</td>\n",
       "      <td></td>\n",
       "      <td>...</td>\n",
       "      <td>1192.0</td>\n",
       "      <td>ENG</td>\n",
       "      <td>CHI</td>\n",
       "      <td>2.0</td>\n",
       "      <td>1.0</td>\n",
       "      <td>2.0</td>\n",
       "      <td>1</td>\n",
       "      <td>1</td>\n",
       "      <td>5</td>\n",
       "      <td>1</td>\n",
       "    </tr>\n",
       "    <tr>\n",
       "      <th>55</th>\n",
       "      <td>1950.0</td>\n",
       "      <td>25 Jun 1950 - 15:00</td>\n",
       "      <td>Group 2</td>\n",
       "      <td>Durival de Brito</td>\n",
       "      <td>Curitiba</td>\n",
       "      <td>Spain</td>\n",
       "      <td>3.0</td>\n",
       "      <td>1.0</td>\n",
       "      <td>USA</td>\n",
       "      <td></td>\n",
       "      <td>...</td>\n",
       "      <td>1208.0</td>\n",
       "      <td>ESP</td>\n",
       "      <td>USA</td>\n",
       "      <td>2.0</td>\n",
       "      <td>1.0</td>\n",
       "      <td>4.0</td>\n",
       "      <td>1</td>\n",
       "      <td>1</td>\n",
       "      <td>4</td>\n",
       "      <td>1</td>\n",
       "    </tr>\n",
       "    <tr>\n",
       "      <th>56</th>\n",
       "      <td>1950.0</td>\n",
       "      <td>25 Jun 1950 - 15:00</td>\n",
       "      <td>Group 3</td>\n",
       "      <td>Pacaembu</td>\n",
       "      <td>Sao Paulo</td>\n",
       "      <td>Sweden</td>\n",
       "      <td>3.0</td>\n",
       "      <td>2.0</td>\n",
       "      <td>Italy</td>\n",
       "      <td></td>\n",
       "      <td>...</td>\n",
       "      <td>1219.0</td>\n",
       "      <td>SWE</td>\n",
       "      <td>ITA</td>\n",
       "      <td>1.0</td>\n",
       "      <td>1.0</td>\n",
       "      <td>5.0</td>\n",
       "      <td>0</td>\n",
       "      <td>1</td>\n",
       "      <td>1</td>\n",
       "      <td>1</td>\n",
       "    </tr>\n",
       "    <tr>\n",
       "      <th>57</th>\n",
       "      <td>1950.0</td>\n",
       "      <td>25 Jun 1950 - 15:00</td>\n",
       "      <td>Group 1</td>\n",
       "      <td>Independencia</td>\n",
       "      <td>Belo Horizonte</td>\n",
       "      <td>Yugoslavia</td>\n",
       "      <td>3.0</td>\n",
       "      <td>0.0</td>\n",
       "      <td>Switzerland</td>\n",
       "      <td></td>\n",
       "      <td>...</td>\n",
       "      <td>1230.0</td>\n",
       "      <td>YUG</td>\n",
       "      <td>SUI</td>\n",
       "      <td>3.0</td>\n",
       "      <td>0.0</td>\n",
       "      <td>3.0</td>\n",
       "      <td>1</td>\n",
       "      <td>1</td>\n",
       "      <td>1</td>\n",
       "      <td>1</td>\n",
       "    </tr>\n",
       "    <tr>\n",
       "      <th>58</th>\n",
       "      <td>1950.0</td>\n",
       "      <td>28 Jun 1950 - 15:00</td>\n",
       "      <td>Group 1</td>\n",
       "      <td>Pacaembu</td>\n",
       "      <td>Sao Paulo</td>\n",
       "      <td>Brazil</td>\n",
       "      <td>2.0</td>\n",
       "      <td>2.0</td>\n",
       "      <td>Switzerland</td>\n",
       "      <td></td>\n",
       "      <td>...</td>\n",
       "      <td>1188.0</td>\n",
       "      <td>BRA</td>\n",
       "      <td>SUI</td>\n",
       "      <td>0.0</td>\n",
       "      <td>1.0</td>\n",
       "      <td>4.0</td>\n",
       "      <td>0</td>\n",
       "      <td>5</td>\n",
       "      <td>1</td>\n",
       "      <td>1</td>\n",
       "    </tr>\n",
       "    <tr>\n",
       "      <th>59</th>\n",
       "      <td>1950.0</td>\n",
       "      <td>28 Jun 1950 - 15:00</td>\n",
       "      <td>Group 1</td>\n",
       "      <td>Eucaliptos</td>\n",
       "      <td>Porto Alegre</td>\n",
       "      <td>Yugoslavia</td>\n",
       "      <td>4.0</td>\n",
       "      <td>1.0</td>\n",
       "      <td>Mexico</td>\n",
       "      <td></td>\n",
       "      <td>...</td>\n",
       "      <td>1225.0</td>\n",
       "      <td>YUG</td>\n",
       "      <td>MEX</td>\n",
       "      <td>3.0</td>\n",
       "      <td>2.0</td>\n",
       "      <td>5.0</td>\n",
       "      <td>1</td>\n",
       "      <td>1</td>\n",
       "      <td>4</td>\n",
       "      <td>1</td>\n",
       "    </tr>\n",
       "  </tbody>\n",
       "</table>\n",
       "<p>60 rows × 27 columns</p>\n",
       "</div>"
      ],
      "text/plain": [
       "      Year              Datetime                  Stage  \\\n",
       "0   1930.0  13 Jul 1930 - 15:00                 Group 1   \n",
       "1   1930.0  13 Jul 1930 - 15:00                 Group 4   \n",
       "2   1930.0  14 Jul 1930 - 12:45                 Group 2   \n",
       "3   1930.0  14 Jul 1930 - 14:50                 Group 3   \n",
       "4   1930.0  15 Jul 1930 - 16:00                 Group 1   \n",
       "5   1930.0  16 Jul 1930 - 14:45                 Group 1   \n",
       "6   1930.0  17 Jul 1930 - 12:45                 Group 2   \n",
       "7   1930.0  17 Jul 1930 - 14:45                 Group 4   \n",
       "8   1930.0  18 Jul 1930 - 14:30                 Group 3   \n",
       "9   1930.0  19 Jul 1930 - 12:50                 Group 1   \n",
       "10  1930.0  19 Jul 1930 - 15:00                 Group 1   \n",
       "11  1930.0  20 Jul 1930 - 13:00                 Group 2   \n",
       "12  1930.0  20 Jul 1930 - 15:00                 Group 4   \n",
       "13  1930.0  21 Jul 1930 - 14:50                 Group 3   \n",
       "14  1930.0  22 Jul 1930 - 14:45                 Group 1   \n",
       "15  1930.0  26 Jul 1930 - 14:45             Semi-finals   \n",
       "16  1930.0  27 Jul 1930 - 14:45             Semi-finals   \n",
       "17  1930.0  30 Jul 1930 - 14:15                   Final   \n",
       "18  1934.0  27 May 1934 - 16:30       Preliminary round   \n",
       "19  1934.0  27 May 1934 - 16:30       Preliminary round   \n",
       "20  1934.0  27 May 1934 - 16:30       Preliminary round   \n",
       "21  1934.0  27 May 1934 - 16:30       Preliminary round   \n",
       "22  1934.0  27 May 1934 - 16:30       Preliminary round   \n",
       "23  1934.0  27 May 1934 - 16:30       Preliminary round   \n",
       "24  1934.0  27 May 1934 - 16:30       Preliminary round   \n",
       "25  1934.0  27 May 1934 - 16:30       Preliminary round   \n",
       "26  1934.0  31 May 1934 - 16:30          Quarter-finals   \n",
       "27  1934.0  31 May 1934 - 16:30          Quarter-finals   \n",
       "28  1934.0  31 May 1934 - 16:30          Quarter-finals   \n",
       "29  1934.0  31 May 1934 - 16:30          Quarter-finals   \n",
       "30  1934.0  01 Jun 1934 - 16:30          Quarter-finals   \n",
       "31  1934.0  03 Jun 1934 - 16:30             Semi-finals   \n",
       "32  1934.0  03 Jun 1934 - 16:30             Semi-finals   \n",
       "33  1934.0  07 Jun 1934 - 18:00   Match for third place   \n",
       "34  1934.0  10 Jun 1934 - 17:30                   Final   \n",
       "35  1938.0  04 Jun 1938 - 17:00             First round   \n",
       "36  1938.0  05 Jun 1938 - 17:00             First round   \n",
       "37  1938.0  05 Jun 1938 - 17:00             First round   \n",
       "38  1938.0  05 Jun 1938 - 17:00             First round   \n",
       "39  1938.0  05 Jun 1938 - 17:00             First round   \n",
       "40  1938.0  05 Jun 1938 - 17:30             First round   \n",
       "41  1938.0  05 Jun 1938 - 18:30             First round   \n",
       "42  1938.0  09 Jun 1938 - 18:00             First round   \n",
       "43  1938.0  09 Jun 1938 - 18:00             First round   \n",
       "44  1938.0  12 Jun 1938 - 17:00          Quarter-finals   \n",
       "45  1938.0  12 Jun 1938 - 17:00          Quarter-finals   \n",
       "46  1938.0  12 Jun 1938 - 17:00          Quarter-finals   \n",
       "47  1938.0  12 Jun 1938 - 17:00          Quarter-finals   \n",
       "48  1938.0  14 Jun 1938 - 18:00          Quarter-finals   \n",
       "49  1938.0  16 Jun 1938 - 18:00             Semi-finals   \n",
       "50  1938.0  16 Jun 1938 - 18:00             Semi-finals   \n",
       "51  1938.0  19 Jun 1938 - 17:00   Match for third place   \n",
       "52  1938.0  19 Jun 1938 - 17:00                   Final   \n",
       "53  1950.0  24 Jun 1950 - 15:00                 Group 1   \n",
       "54  1950.0  25 Jun 1950 - 15:00                 Group 2   \n",
       "55  1950.0  25 Jun 1950 - 15:00                 Group 2   \n",
       "56  1950.0  25 Jun 1950 - 15:00                 Group 3   \n",
       "57  1950.0  25 Jun 1950 - 15:00                 Group 1   \n",
       "58  1950.0  28 Jun 1950 - 15:00                 Group 1   \n",
       "59  1950.0  28 Jun 1950 - 15:00                 Group 1   \n",
       "\n",
       "                                      Stadium             City  \\\n",
       "0                                     Pocitos      Montevideo    \n",
       "1                              Parque Central      Montevideo    \n",
       "2                              Parque Central      Montevideo    \n",
       "3                                     Pocitos      Montevideo    \n",
       "4                              Parque Central      Montevideo    \n",
       "5                              Parque Central      Montevideo    \n",
       "6                              Parque Central      Montevideo    \n",
       "7                              Parque Central      Montevideo    \n",
       "8                          Estadio Centenario      Montevideo    \n",
       "9                          Estadio Centenario      Montevideo    \n",
       "10                         Estadio Centenario      Montevideo    \n",
       "11                         Estadio Centenario      Montevideo    \n",
       "12                         Estadio Centenario      Montevideo    \n",
       "13                         Estadio Centenario      Montevideo    \n",
       "14                         Estadio Centenario      Montevideo    \n",
       "15                         Estadio Centenario      Montevideo    \n",
       "16                         Estadio Centenario      Montevideo    \n",
       "17                         Estadio Centenario      Montevideo    \n",
       "18                    Stadio Benito Mussolini           Turin    \n",
       "19                          Giorgio Ascarelli          Naples    \n",
       "20                                   San Siro           Milan    \n",
       "21                                  Littorale         Bologna    \n",
       "22                             Giovanni Berta        Florence    \n",
       "23                             Luigi Ferraris           Genoa    \n",
       "24                              Nazionale PNF            Rome    \n",
       "25                                   Littorio         Trieste    \n",
       "26                    Stadio Benito Mussolini           Turin    \n",
       "27                                   San Siro           Milan    \n",
       "28                             Giovanni Berta        Florence    \n",
       "29                                  Littorale         Bologna    \n",
       "30                             Giovanni Berta        Florence    \n",
       "31                                   San Siro           Milan    \n",
       "32                              Nazionale PNF            Rome    \n",
       "33                          Giorgio Ascarelli          Naples    \n",
       "34                              Nazionale PNF            Rome    \n",
       "35                           Parc des Princes           Paris    \n",
       "36                       Velodrome Municipale           Reims    \n",
       "37                            Stade Olympique        Colombes    \n",
       "38                            Stade Municipal        Toulouse    \n",
       "39                            Stade V�lodrome      Marseilles    \n",
       "40                         Stade de la Meinau      Strasbourg    \n",
       "41                                Cavee Verte        Le Havre    \n",
       "42                            Stade Municipal        Toulouse    \n",
       "43                           Parc des Princes           Paris    \n",
       "44                      Stade du Parc Lescure        Bordeaux    \n",
       "45                            Victor Boucquey           Lille    \n",
       "46                                Fort Carree         Antibes    \n",
       "47                            Stade Olympique        Colombes    \n",
       "48                      Stade du Parc Lescure        Bordeaux    \n",
       "49                           Parc des Princes           Paris    \n",
       "50                            Stade V�lodrome      Marseilles    \n",
       "51                      Stade du Parc Lescure        Bordeaux    \n",
       "52                            Stade Olympique        Colombes    \n",
       "53  Maracan� - Est�dio Jornalista M�rio Filho  Rio De Janeiro    \n",
       "54  Maracan� - Est�dio Jornalista M�rio Filho  Rio De Janeiro    \n",
       "55                           Durival de Brito        Curitiba    \n",
       "56                                   Pacaembu       Sao Paulo    \n",
       "57                              Independencia  Belo Horizonte    \n",
       "58                                   Pacaembu       Sao Paulo    \n",
       "59                                 Eucaliptos    Porto Alegre    \n",
       "\n",
       "    Home Team Name  Home Team Goals  Away Team Goals     Away Team Name  \\\n",
       "0           France              4.0              1.0             Mexico   \n",
       "1              USA              3.0              0.0            Belgium   \n",
       "2       Yugoslavia              2.0              1.0             Brazil   \n",
       "3          Romania              3.0              1.0               Peru   \n",
       "4        Argentina              1.0              0.0             France   \n",
       "5            Chile              3.0              0.0             Mexico   \n",
       "6       Yugoslavia              4.0              0.0            Bolivia   \n",
       "7              USA              3.0              0.0           Paraguay   \n",
       "8          Uruguay              1.0              0.0               Peru   \n",
       "9            Chile              1.0              0.0             France   \n",
       "10       Argentina              6.0              3.0             Mexico   \n",
       "11          Brazil              4.0              0.0            Bolivia   \n",
       "12        Paraguay              1.0              0.0            Belgium   \n",
       "13         Uruguay              4.0              0.0            Romania   \n",
       "14       Argentina              3.0              1.0              Chile   \n",
       "15       Argentina              6.0              1.0                USA   \n",
       "16         Uruguay              6.0              1.0         Yugoslavia   \n",
       "17         Uruguay              4.0              2.0          Argentina   \n",
       "18         Austria              3.0              2.0             France   \n",
       "19         Hungary              4.0              2.0              Egypt   \n",
       "20     Switzerland              3.0              2.0        Netherlands   \n",
       "21          Sweden              3.0              2.0          Argentina   \n",
       "22         Germany              5.0              2.0            Belgium   \n",
       "23           Spain              3.0              1.0             Brazil   \n",
       "24           Italy              7.0              1.0                USA   \n",
       "25  Czechoslovakia              2.0              1.0            Romania   \n",
       "26  Czechoslovakia              3.0              2.0        Switzerland   \n",
       "27         Germany              2.0              1.0             Sweden   \n",
       "28           Italy              1.0              1.0              Spain   \n",
       "29         Austria              2.0              1.0            Hungary   \n",
       "30           Italy              1.0              0.0              Spain   \n",
       "31           Italy              1.0              0.0            Austria   \n",
       "32  Czechoslovakia              3.0              1.0            Germany   \n",
       "33         Germany              3.0              2.0            Austria   \n",
       "34           Italy              2.0              1.0     Czechoslovakia   \n",
       "35     Switzerland              1.0              1.0            Germany   \n",
       "36         Hungary              6.0              0.0  Dutch East Indies   \n",
       "37          France              3.0              1.0            Belgium   \n",
       "38            Cuba              3.0              3.0            Romania   \n",
       "39           Italy              2.0              1.0             Norway   \n",
       "40          Brazil              6.0              5.0             Poland   \n",
       "41  Czechoslovakia              3.0              0.0        Netherlands   \n",
       "42            Cuba              2.0              1.0            Romania   \n",
       "43     Switzerland              4.0              2.0            Germany   \n",
       "44          Brazil              1.0              1.0     Czechoslovakia   \n",
       "45         Hungary              2.0              0.0        Switzerland   \n",
       "46          Sweden              8.0              0.0               Cuba   \n",
       "47           Italy              3.0              1.0             France   \n",
       "48          Brazil              2.0              1.0     Czechoslovakia   \n",
       "49         Hungary              5.0              1.0             Sweden   \n",
       "50           Italy              2.0              1.0             Brazil   \n",
       "51          Brazil              4.0              2.0             Sweden   \n",
       "52           Italy              4.0              2.0            Hungary   \n",
       "53          Brazil              4.0              0.0             Mexico   \n",
       "54         England              2.0              0.0              Chile   \n",
       "55           Spain              3.0              1.0                USA   \n",
       "56          Sweden              3.0              2.0              Italy   \n",
       "57      Yugoslavia              3.0              0.0        Switzerland   \n",
       "58          Brazil              2.0              2.0        Switzerland   \n",
       "59      Yugoslavia              4.0              1.0             Mexico   \n",
       "\n",
       "                          Win conditions  ...  MatchID  Home Team Initials  \\\n",
       "0                                         ...   1096.0                 FRA   \n",
       "1                                         ...   1090.0                 USA   \n",
       "2                                         ...   1093.0                 YUG   \n",
       "3                                         ...   1098.0                 ROU   \n",
       "4                                         ...   1085.0                 ARG   \n",
       "5                                         ...   1095.0                 CHI   \n",
       "6                                         ...   1092.0                 YUG   \n",
       "7                                         ...   1097.0                 USA   \n",
       "8                                         ...   1099.0                 URU   \n",
       "9                                         ...   1094.0                 CHI   \n",
       "10                                        ...   1086.0                 ARG   \n",
       "11                                        ...   1091.0                 BRA   \n",
       "12                                        ...   1089.0                 PAR   \n",
       "13                                        ...   1100.0                 URU   \n",
       "14                                        ...   1084.0                 ARG   \n",
       "15                                        ...   1088.0                 ARG   \n",
       "16                                        ...   1101.0                 URU   \n",
       "17                                        ...   1087.0                 URU   \n",
       "18         Austria win after extra time   ...   1104.0                 AUT   \n",
       "19                                        ...   1119.0                 HUN   \n",
       "20                                        ...   1133.0                 SUI   \n",
       "21                                        ...   1102.0                 SWE   \n",
       "22                                        ...   1108.0                 GER   \n",
       "23                                        ...   1111.0                 ESP   \n",
       "24                                        ...   1135.0                 ITA   \n",
       "25                                        ...   1141.0                 TCH   \n",
       "26                                        ...   1143.0                 TCH   \n",
       "27                                        ...   1129.0                 GER   \n",
       "28                                        ...   1122.0                 ITA   \n",
       "29                                        ...   1106.0                 AUT   \n",
       "30                                        ...   1123.0                 ITA   \n",
       "31                                        ...   1107.0                 ITA   \n",
       "32                                        ...   1130.0                 TCH   \n",
       "33                                        ...   1105.0                 GER   \n",
       "34           Italy win after extra time   ...   1134.0                 ITA   \n",
       "35                                        ...   1165.0                 SUI   \n",
       "36                                        ...   1173.0                 HUN   \n",
       "37                                        ...   1146.0                 FRA   \n",
       "38                                        ...   1156.0                 CUB   \n",
       "39           Italy win after extra time   ...   1179.0                 ITA   \n",
       "40          Brazil win after extra time   ...   1150.0                 BRA   \n",
       "41  Czechoslovakia win after extra time   ...   1172.0                 TCH   \n",
       "42                                        ...   1157.0                 CUB   \n",
       "43                                        ...   1166.0                 SUI   \n",
       "44                                        ...   1152.0                 BRA   \n",
       "45                                        ...   1175.0                 HUN   \n",
       "46                                        ...   1158.0                 SWE   \n",
       "47                                        ...   1164.0                 ITA   \n",
       "48                                        ...   1153.0                 BRA   \n",
       "49                                        ...   1176.0                 HUN   \n",
       "50                                        ...   1149.0                 ITA   \n",
       "51                                        ...   1151.0                 BRA   \n",
       "52                                        ...   1174.0                 ITA   \n",
       "53                                        ...   1187.0                 BRA   \n",
       "54                                        ...   1192.0                 ENG   \n",
       "55                                        ...   1208.0                 ESP   \n",
       "56                                        ...   1219.0                 SWE   \n",
       "57                                        ...   1230.0                 YUG   \n",
       "58                                        ...   1188.0                 BRA   \n",
       "59                                        ...   1225.0                 YUG   \n",
       "\n",
       "    Away Team Initials Goal Difference Half-time Goal Difference Goal total  \\\n",
       "0                  MEX             3.0                       3.0        5.0   \n",
       "1                  BEL             3.0                       2.0        3.0   \n",
       "2                  BRA             1.0                       2.0        3.0   \n",
       "3                  PER             2.0                       1.0        4.0   \n",
       "4                  FRA             1.0                       0.0        1.0   \n",
       "5                  MEX             3.0                       1.0        3.0   \n",
       "6                  BOL             4.0                       0.0        4.0   \n",
       "7                  PAR             3.0                       2.0        3.0   \n",
       "8                  PER             1.0                       0.0        1.0   \n",
       "9                  FRA             1.0                       0.0        1.0   \n",
       "10                 MEX             3.0                       2.0        9.0   \n",
       "11                 BOL             4.0                       1.0        4.0   \n",
       "12                 BEL             1.0                       1.0        1.0   \n",
       "13                 ROU             4.0                       4.0        4.0   \n",
       "14                 CHI             2.0                       1.0        4.0   \n",
       "15                 USA             5.0                       1.0        7.0   \n",
       "16                 YUG             5.0                       2.0        7.0   \n",
       "17                 ARG             2.0                       1.0        6.0   \n",
       "18                 FRA             1.0                       0.0        5.0   \n",
       "19                 EGY             2.0                       0.0        6.0   \n",
       "20                 NED             1.0                       1.0        5.0   \n",
       "21                 ARG             1.0                       0.0        5.0   \n",
       "22                 BEL             3.0                       1.0        7.0   \n",
       "23                 BRA             2.0                       3.0        4.0   \n",
       "24                 USA             6.0                       3.0        8.0   \n",
       "25                 ROU             1.0                       1.0        3.0   \n",
       "26                 SUI             1.0                       0.0        5.0   \n",
       "27                 SWE             1.0                       0.0        3.0   \n",
       "28                 ESP             0.0                       0.0        2.0   \n",
       "29                 HUN             1.0                       1.0        3.0   \n",
       "30                 ESP             1.0                       1.0        1.0   \n",
       "31                 AUT             1.0                       1.0        1.0   \n",
       "32                 GER             2.0                       1.0        4.0   \n",
       "33                 AUT             1.0                       2.0        5.0   \n",
       "34                 TCH             1.0                       0.0        3.0   \n",
       "35                 GER             0.0                       0.0        2.0   \n",
       "36                 INH             6.0                       4.0        6.0   \n",
       "37                 BEL             2.0                       1.0        4.0   \n",
       "38                 ROU             0.0                       0.0        6.0   \n",
       "39                 NOR             1.0                       0.0        3.0   \n",
       "40                 POL             1.0                       0.0       11.0   \n",
       "41                 NED             3.0                       0.0        3.0   \n",
       "42                 ROU             1.0                       1.0        3.0   \n",
       "43                 GER             2.0                       1.0        6.0   \n",
       "44                 TCH             0.0                       0.0        2.0   \n",
       "45                 SUI             2.0                       1.0        2.0   \n",
       "46                 CUB             8.0                       4.0        8.0   \n",
       "47                 FRA             2.0                       0.0        4.0   \n",
       "48                 TCH             1.0                       1.0        3.0   \n",
       "49                 SWE             4.0                       2.0        6.0   \n",
       "50                 BRA             1.0                       0.0        3.0   \n",
       "51                 SWE             2.0                       1.0        6.0   \n",
       "52                 HUN             2.0                       2.0        6.0   \n",
       "53                 MEX             4.0                       1.0        4.0   \n",
       "54                 CHI             2.0                       1.0        2.0   \n",
       "55                 USA             2.0                       1.0        4.0   \n",
       "56                 ITA             1.0                       1.0        5.0   \n",
       "57                 SUI             3.0                       0.0        3.0   \n",
       "58                 SUI             0.0                       1.0        4.0   \n",
       "59                 MEX             3.0                       2.0        5.0   \n",
       "\n",
       "    big_dfference  home_team away_team stage  \n",
       "0               1          1         4     1  \n",
       "1               1          4         1     1  \n",
       "2               0          1         5     1  \n",
       "3               1          1         5     1  \n",
       "4               0          5         1     1  \n",
       "5               1          5         4     1  \n",
       "6               1          1         5     1  \n",
       "7               1          4         5     1  \n",
       "8               0          5         5     1  \n",
       "9               0          5         1     1  \n",
       "10              1          5         4     1  \n",
       "11              1          5         5     1  \n",
       "12              0          5         1     1  \n",
       "13              1          5         1     1  \n",
       "14              1          5         5     1  \n",
       "15              1          5         4     2  \n",
       "16              1          5         1     2  \n",
       "17              1          5         5     3  \n",
       "18              0          1         1     0  \n",
       "19              1          1         3     0  \n",
       "20              0          1         1     0  \n",
       "21              0          1         5     0  \n",
       "22              1          1         1     0  \n",
       "23              1          1         5     0  \n",
       "24              1          1         4     0  \n",
       "25              0          1         1     0  \n",
       "26              0          1         1     2  \n",
       "27              0          1         1     2  \n",
       "28              0          1         1     2  \n",
       "29              0          1         1     2  \n",
       "30              0          1         1     2  \n",
       "31              0          1         1     2  \n",
       "32              1          1         1     2  \n",
       "33              0          1         1     2  \n",
       "34              0          1         1     3  \n",
       "35              0          1         1     1  \n",
       "36              1          1         2     1  \n",
       "37              1          1         1     1  \n",
       "38              0          4         1     1  \n",
       "39              0          1         1     1  \n",
       "40              0          5         1     1  \n",
       "41              1          1         1     1  \n",
       "42              0          4         1     1  \n",
       "43              1          1         1     1  \n",
       "44              0          5         1     2  \n",
       "45              1          1         1     2  \n",
       "46              1          1         4     2  \n",
       "47              1          1         1     2  \n",
       "48              0          5         1     2  \n",
       "49              1          1         1     2  \n",
       "50              0          1         5     2  \n",
       "51              1          5         1     2  \n",
       "52              1          1         1     3  \n",
       "53              1          5         4     1  \n",
       "54              1          1         5     1  \n",
       "55              1          1         4     1  \n",
       "56              0          1         1     1  \n",
       "57              1          1         1     1  \n",
       "58              0          5         1     1  \n",
       "59              1          1         4     1  \n",
       "\n",
       "[60 rows x 27 columns]"
      ]
     },
     "execution_count": 28,
     "metadata": {},
     "output_type": "execute_result"
    }
   ],
   "source": [
    "match.head(60)"
   ]
  },
  {
   "cell_type": "code",
   "execution_count": null,
   "metadata": {},
   "outputs": [],
   "source": []
  },
  {
   "cell_type": "markdown",
   "metadata": {},
   "source": [
    " # 处理无用数据"
   ]
  },
  {
   "cell_type": "code",
   "execution_count": 29,
   "metadata": {},
   "outputs": [],
   "source": [
    "match.drop('Stadium',axis = 1,inplace = True)"
   ]
  },
  {
   "cell_type": "code",
   "execution_count": 30,
   "metadata": {},
   "outputs": [],
   "source": [
    "match.drop('Stage',axis = 1,inplace = True)"
   ]
  },
  {
   "cell_type": "code",
   "execution_count": 31,
   "metadata": {},
   "outputs": [],
   "source": [
    "match.drop('Home Team Name',axis = 1,inplace = True)"
   ]
  },
  {
   "cell_type": "code",
   "execution_count": 32,
   "metadata": {},
   "outputs": [],
   "source": [
    "match.drop('Datetime',axis = 1,inplace = True)"
   ]
  },
  {
   "cell_type": "code",
   "execution_count": 33,
   "metadata": {},
   "outputs": [],
   "source": [
    "match.drop(['Away Team Name','Referee'],axis = 1,inplace = True)"
   ]
  },
  {
   "cell_type": "code",
   "execution_count": 34,
   "metadata": {},
   "outputs": [],
   "source": [
    "match.drop(['Goal Difference','Assistant 1','Assistant 2','RoundID','MatchID','Home Team Initials','Away Team Initials','Win conditions','City'],axis = 1,inplace = True)"
   ]
  },
  {
   "cell_type": "code",
   "execution_count": 35,
   "metadata": {},
   "outputs": [
    {
     "data": {
      "text/html": [
       "<div>\n",
       "<style scoped>\n",
       "    .dataframe tbody tr th:only-of-type {\n",
       "        vertical-align: middle;\n",
       "    }\n",
       "\n",
       "    .dataframe tbody tr th {\n",
       "        vertical-align: top;\n",
       "    }\n",
       "\n",
       "    .dataframe thead th {\n",
       "        text-align: right;\n",
       "    }\n",
       "</style>\n",
       "<table border=\"1\" class=\"dataframe\">\n",
       "  <thead>\n",
       "    <tr style=\"text-align: right;\">\n",
       "      <th></th>\n",
       "      <th>Year</th>\n",
       "      <th>Home Team Goals</th>\n",
       "      <th>Away Team Goals</th>\n",
       "      <th>Attendance</th>\n",
       "      <th>Half-time Home Goals</th>\n",
       "      <th>Half-time Away Goals</th>\n",
       "      <th>Half-time Goal Difference</th>\n",
       "      <th>Goal total</th>\n",
       "      <th>big_dfference</th>\n",
       "      <th>home_team</th>\n",
       "      <th>away_team</th>\n",
       "      <th>stage</th>\n",
       "    </tr>\n",
       "  </thead>\n",
       "  <tbody>\n",
       "    <tr>\n",
       "      <th>0</th>\n",
       "      <td>1930.0</td>\n",
       "      <td>4.0</td>\n",
       "      <td>1.0</td>\n",
       "      <td>4444.0</td>\n",
       "      <td>3.0</td>\n",
       "      <td>0.0</td>\n",
       "      <td>3.0</td>\n",
       "      <td>5.0</td>\n",
       "      <td>1</td>\n",
       "      <td>1</td>\n",
       "      <td>4</td>\n",
       "      <td>1</td>\n",
       "    </tr>\n",
       "    <tr>\n",
       "      <th>1</th>\n",
       "      <td>1930.0</td>\n",
       "      <td>3.0</td>\n",
       "      <td>0.0</td>\n",
       "      <td>18346.0</td>\n",
       "      <td>2.0</td>\n",
       "      <td>0.0</td>\n",
       "      <td>2.0</td>\n",
       "      <td>3.0</td>\n",
       "      <td>1</td>\n",
       "      <td>4</td>\n",
       "      <td>1</td>\n",
       "      <td>1</td>\n",
       "    </tr>\n",
       "    <tr>\n",
       "      <th>2</th>\n",
       "      <td>1930.0</td>\n",
       "      <td>2.0</td>\n",
       "      <td>1.0</td>\n",
       "      <td>24059.0</td>\n",
       "      <td>2.0</td>\n",
       "      <td>0.0</td>\n",
       "      <td>2.0</td>\n",
       "      <td>3.0</td>\n",
       "      <td>0</td>\n",
       "      <td>1</td>\n",
       "      <td>5</td>\n",
       "      <td>1</td>\n",
       "    </tr>\n",
       "    <tr>\n",
       "      <th>3</th>\n",
       "      <td>1930.0</td>\n",
       "      <td>3.0</td>\n",
       "      <td>1.0</td>\n",
       "      <td>2549.0</td>\n",
       "      <td>1.0</td>\n",
       "      <td>0.0</td>\n",
       "      <td>1.0</td>\n",
       "      <td>4.0</td>\n",
       "      <td>1</td>\n",
       "      <td>1</td>\n",
       "      <td>5</td>\n",
       "      <td>1</td>\n",
       "    </tr>\n",
       "    <tr>\n",
       "      <th>4</th>\n",
       "      <td>1930.0</td>\n",
       "      <td>1.0</td>\n",
       "      <td>0.0</td>\n",
       "      <td>23409.0</td>\n",
       "      <td>0.0</td>\n",
       "      <td>0.0</td>\n",
       "      <td>0.0</td>\n",
       "      <td>1.0</td>\n",
       "      <td>0</td>\n",
       "      <td>5</td>\n",
       "      <td>1</td>\n",
       "      <td>1</td>\n",
       "    </tr>\n",
       "  </tbody>\n",
       "</table>\n",
       "</div>"
      ],
      "text/plain": [
       "     Year  Home Team Goals  Away Team Goals  Attendance  Half-time Home Goals  \\\n",
       "0  1930.0              4.0              1.0      4444.0                   3.0   \n",
       "1  1930.0              3.0              0.0     18346.0                   2.0   \n",
       "2  1930.0              2.0              1.0     24059.0                   2.0   \n",
       "3  1930.0              3.0              1.0      2549.0                   1.0   \n",
       "4  1930.0              1.0              0.0     23409.0                   0.0   \n",
       "\n",
       "   Half-time Away Goals  Half-time Goal Difference  Goal total  big_dfference  \\\n",
       "0                   0.0                        3.0         5.0              1   \n",
       "1                   0.0                        2.0         3.0              1   \n",
       "2                   0.0                        2.0         3.0              0   \n",
       "3                   0.0                        1.0         4.0              1   \n",
       "4                   0.0                        0.0         1.0              0   \n",
       "\n",
       "   home_team  away_team  stage  \n",
       "0          1          4      1  \n",
       "1          4          1      1  \n",
       "2          1          5      1  \n",
       "3          1          5      1  \n",
       "4          5          1      1  "
      ]
     },
     "execution_count": 35,
     "metadata": {},
     "output_type": "execute_result"
    }
   ],
   "source": [
    "match.head()"
   ]
  },
  {
   "cell_type": "code",
   "execution_count": 36,
   "metadata": {},
   "outputs": [
    {
     "name": "stdout",
     "output_type": "stream",
     "text": [
      "<class 'pandas.core.frame.DataFrame'>\n",
      "RangeIndex: 4572 entries, 0 to 4571\n",
      "Data columns (total 12 columns):\n",
      " #   Column                     Non-Null Count  Dtype  \n",
      "---  ------                     --------------  -----  \n",
      " 0   Year                       852 non-null    float64\n",
      " 1   Home Team Goals            852 non-null    float64\n",
      " 2   Away Team Goals            852 non-null    float64\n",
      " 3   Attendance                 850 non-null    float64\n",
      " 4   Half-time Home Goals       852 non-null    float64\n",
      " 5   Half-time Away Goals       852 non-null    float64\n",
      " 6   Half-time Goal Difference  852 non-null    float64\n",
      " 7   Goal total                 852 non-null    float64\n",
      " 8   big_dfference              4572 non-null   int64  \n",
      " 9   home_team                  4572 non-null   int64  \n",
      " 10  away_team                  4572 non-null   int64  \n",
      " 11  stage                      4572 non-null   int64  \n",
      "dtypes: float64(8), int64(4)\n",
      "memory usage: 428.8 KB\n"
     ]
    }
   ],
   "source": [
    "match.info()"
   ]
  },
  {
   "cell_type": "code",
   "execution_count": 37,
   "metadata": {},
   "outputs": [
    {
     "data": {
      "text/html": [
       "<div>\n",
       "<style scoped>\n",
       "    .dataframe tbody tr th:only-of-type {\n",
       "        vertical-align: middle;\n",
       "    }\n",
       "\n",
       "    .dataframe tbody tr th {\n",
       "        vertical-align: top;\n",
       "    }\n",
       "\n",
       "    .dataframe thead th {\n",
       "        text-align: right;\n",
       "    }\n",
       "</style>\n",
       "<table border=\"1\" class=\"dataframe\">\n",
       "  <thead>\n",
       "    <tr style=\"text-align: right;\">\n",
       "      <th></th>\n",
       "      <th>Year</th>\n",
       "      <th>Home Team Goals</th>\n",
       "      <th>Away Team Goals</th>\n",
       "      <th>Attendance</th>\n",
       "      <th>Half-time Home Goals</th>\n",
       "      <th>Half-time Away Goals</th>\n",
       "      <th>Half-time Goal Difference</th>\n",
       "      <th>Goal total</th>\n",
       "      <th>big_dfference</th>\n",
       "      <th>home_team</th>\n",
       "      <th>away_team</th>\n",
       "      <th>stage</th>\n",
       "    </tr>\n",
       "  </thead>\n",
       "  <tbody>\n",
       "    <tr>\n",
       "      <th>count</th>\n",
       "      <td>852.000000</td>\n",
       "      <td>852.000000</td>\n",
       "      <td>852.000000</td>\n",
       "      <td>850.000000</td>\n",
       "      <td>852.000000</td>\n",
       "      <td>852.000000</td>\n",
       "      <td>852.000000</td>\n",
       "      <td>852.000000</td>\n",
       "      <td>4572.000000</td>\n",
       "      <td>4572.000000</td>\n",
       "      <td>4572.000000</td>\n",
       "      <td>4572.000000</td>\n",
       "    </tr>\n",
       "    <tr>\n",
       "      <th>mean</th>\n",
       "      <td>1985.089202</td>\n",
       "      <td>1.811033</td>\n",
       "      <td>1.022300</td>\n",
       "      <td>45164.800000</td>\n",
       "      <td>0.708920</td>\n",
       "      <td>0.428404</td>\n",
       "      <td>0.761737</td>\n",
       "      <td>2.833333</td>\n",
       "      <td>0.071741</td>\n",
       "      <td>0.428915</td>\n",
       "      <td>0.414042</td>\n",
       "      <td>2.676509</td>\n",
       "    </tr>\n",
       "    <tr>\n",
       "      <th>std</th>\n",
       "      <td>22.448825</td>\n",
       "      <td>1.610255</td>\n",
       "      <td>1.087573</td>\n",
       "      <td>23485.249247</td>\n",
       "      <td>0.937414</td>\n",
       "      <td>0.691252</td>\n",
       "      <td>0.908656</td>\n",
       "      <td>1.954336</td>\n",
       "      <td>0.258087</td>\n",
       "      <td>1.167628</td>\n",
       "      <td>1.111309</td>\n",
       "      <td>0.710972</td>\n",
       "    </tr>\n",
       "    <tr>\n",
       "      <th>min</th>\n",
       "      <td>1930.000000</td>\n",
       "      <td>0.000000</td>\n",
       "      <td>0.000000</td>\n",
       "      <td>2000.000000</td>\n",
       "      <td>0.000000</td>\n",
       "      <td>0.000000</td>\n",
       "      <td>0.000000</td>\n",
       "      <td>0.000000</td>\n",
       "      <td>0.000000</td>\n",
       "      <td>0.000000</td>\n",
       "      <td>0.000000</td>\n",
       "      <td>0.000000</td>\n",
       "    </tr>\n",
       "    <tr>\n",
       "      <th>25%</th>\n",
       "      <td>1970.000000</td>\n",
       "      <td>1.000000</td>\n",
       "      <td>0.000000</td>\n",
       "      <td>30000.000000</td>\n",
       "      <td>0.000000</td>\n",
       "      <td>0.000000</td>\n",
       "      <td>0.000000</td>\n",
       "      <td>1.000000</td>\n",
       "      <td>0.000000</td>\n",
       "      <td>0.000000</td>\n",
       "      <td>0.000000</td>\n",
       "      <td>3.000000</td>\n",
       "    </tr>\n",
       "    <tr>\n",
       "      <th>50%</th>\n",
       "      <td>1990.000000</td>\n",
       "      <td>2.000000</td>\n",
       "      <td>1.000000</td>\n",
       "      <td>41579.500000</td>\n",
       "      <td>0.000000</td>\n",
       "      <td>0.000000</td>\n",
       "      <td>1.000000</td>\n",
       "      <td>3.000000</td>\n",
       "      <td>0.000000</td>\n",
       "      <td>0.000000</td>\n",
       "      <td>0.000000</td>\n",
       "      <td>3.000000</td>\n",
       "    </tr>\n",
       "    <tr>\n",
       "      <th>75%</th>\n",
       "      <td>2002.000000</td>\n",
       "      <td>3.000000</td>\n",
       "      <td>2.000000</td>\n",
       "      <td>61374.500000</td>\n",
       "      <td>1.000000</td>\n",
       "      <td>1.000000</td>\n",
       "      <td>1.000000</td>\n",
       "      <td>4.000000</td>\n",
       "      <td>0.000000</td>\n",
       "      <td>0.000000</td>\n",
       "      <td>0.000000</td>\n",
       "      <td>3.000000</td>\n",
       "    </tr>\n",
       "    <tr>\n",
       "      <th>max</th>\n",
       "      <td>2014.000000</td>\n",
       "      <td>10.000000</td>\n",
       "      <td>7.000000</td>\n",
       "      <td>173850.000000</td>\n",
       "      <td>6.000000</td>\n",
       "      <td>5.000000</td>\n",
       "      <td>6.000000</td>\n",
       "      <td>12.000000</td>\n",
       "      <td>1.000000</td>\n",
       "      <td>5.000000</td>\n",
       "      <td>5.000000</td>\n",
       "      <td>3.000000</td>\n",
       "    </tr>\n",
       "  </tbody>\n",
       "</table>\n",
       "</div>"
      ],
      "text/plain": [
       "              Year  Home Team Goals  Away Team Goals     Attendance  \\\n",
       "count   852.000000       852.000000       852.000000     850.000000   \n",
       "mean   1985.089202         1.811033         1.022300   45164.800000   \n",
       "std      22.448825         1.610255         1.087573   23485.249247   \n",
       "min    1930.000000         0.000000         0.000000    2000.000000   \n",
       "25%    1970.000000         1.000000         0.000000   30000.000000   \n",
       "50%    1990.000000         2.000000         1.000000   41579.500000   \n",
       "75%    2002.000000         3.000000         2.000000   61374.500000   \n",
       "max    2014.000000        10.000000         7.000000  173850.000000   \n",
       "\n",
       "       Half-time Home Goals  Half-time Away Goals  Half-time Goal Difference  \\\n",
       "count            852.000000            852.000000                 852.000000   \n",
       "mean               0.708920              0.428404                   0.761737   \n",
       "std                0.937414              0.691252                   0.908656   \n",
       "min                0.000000              0.000000                   0.000000   \n",
       "25%                0.000000              0.000000                   0.000000   \n",
       "50%                0.000000              0.000000                   1.000000   \n",
       "75%                1.000000              1.000000                   1.000000   \n",
       "max                6.000000              5.000000                   6.000000   \n",
       "\n",
       "       Goal total  big_dfference    home_team    away_team        stage  \n",
       "count  852.000000    4572.000000  4572.000000  4572.000000  4572.000000  \n",
       "mean     2.833333       0.071741     0.428915     0.414042     2.676509  \n",
       "std      1.954336       0.258087     1.167628     1.111309     0.710972  \n",
       "min      0.000000       0.000000     0.000000     0.000000     0.000000  \n",
       "25%      1.000000       0.000000     0.000000     0.000000     3.000000  \n",
       "50%      3.000000       0.000000     0.000000     0.000000     3.000000  \n",
       "75%      4.000000       0.000000     0.000000     0.000000     3.000000  \n",
       "max     12.000000       1.000000     5.000000     5.000000     3.000000  "
      ]
     },
     "execution_count": 37,
     "metadata": {},
     "output_type": "execute_result"
    }
   ],
   "source": [
    "match.describe()"
   ]
  },
  {
   "cell_type": "markdown",
   "metadata": {},
   "source": [
    "# missing data"
   ]
  },
  {
   "cell_type": "code",
   "execution_count": 38,
   "metadata": {},
   "outputs": [
    {
     "name": "stdout",
     "output_type": "stream",
     "text": [
      "<bound method Series.mean of 0        4444.0\n",
      "1       18346.0\n",
      "2       24059.0\n",
      "3        2549.0\n",
      "4       23409.0\n",
      "         ...   \n",
      "4567        NaN\n",
      "4568        NaN\n",
      "4569        NaN\n",
      "4570        NaN\n",
      "4571        NaN\n",
      "Name: Attendance, Length: 4572, dtype: float64>\n"
     ]
    }
   ],
   "source": [
    "print(match['Attendance'].mean)"
   ]
  },
  {
   "cell_type": "code",
   "execution_count": 39,
   "metadata": {},
   "outputs": [
    {
     "data": {
      "text/plain": [
       "<matplotlib.axes._subplots.AxesSubplot at 0x1a1d389a10>"
      ]
     },
     "execution_count": 39,
     "metadata": {},
     "output_type": "execute_result"
    },
    {
     "data": {
      "image/png": "[encoded data removed]",
      "text/plain": [
       "<Figure size 432x288 with 1 Axes>"
      ]
     },
     "metadata": {
      "needs_background": "light"
     },
     "output_type": "display_data"
    }
   ],
   "source": [
    "sns.heatmap(match.isnull(),yticklabels= False,cbar = False,cmap= 'viridis')"
   ]
  },
  {
   "cell_type": "code",
   "execution_count": 40,
   "metadata": {},
   "outputs": [
    {
     "name": "stdout",
     "output_type": "stream",
     "text": [
      "4572\n"
     ]
    }
   ],
   "source": [
    "print(len(match))"
   ]
  },
  {
   "cell_type": "markdown",
   "metadata": {},
   "source": [
    "# 上网查的"
   ]
  },
  {
   "cell_type": "code",
   "execution_count": 41,
   "metadata": {},
   "outputs": [],
   "source": [
    "match.dropna(subset = [\"Attendance\"], inplace=True)"
   ]
  },
  {
   "cell_type": "code",
   "execution_count": 42,
   "metadata": {},
   "outputs": [
    {
     "data": {
      "text/plain": [
       "<matplotlib.axes._subplots.AxesSubplot at 0x1a1d551bd0>"
      ]
     },
     "execution_count": 42,
     "metadata": {},
     "output_type": "execute_result"
    },
    {
     "data": {
      "image/png": "[encoded data removed]",
      "text/plain": [
       "<Figure size 432x288 with 1 Axes>"
      ]
     },
     "metadata": {
      "needs_background": "light"
     },
     "output_type": "display_data"
    }
   ],
   "source": [
    "snstem.heatmap(match.isnull(),yticklabels= False,cbar = False,cmap= 'viridis')"
   ]
  },
  {
   "cell_type": "code",
   "execution_count": 43,
   "metadata": {},
   "outputs": [
    {
     "name": "stdout",
     "output_type": "stream",
     "text": [
      "850\n"
     ]
    }
   ],
   "source": [
    "print(len(match))"
   ]
  },
  {
   "cell_type": "markdown",
   "metadata": {},
   "source": [
    "# EDA"
   ]
  },
  {
   "cell_type": "code",
   "execution_count": 44,
   "metadata": {},
   "outputs": [
    {
     "data": {
      "text/plain": [
       "<seaborn.axisgrid.PairGrid at 0x1a1d265390>"
      ]
     },
     "execution_count": 44,
     "metadata": {},
     "output_type": "execute_result"
    },
    {
     "data": {
      "image/png": "[encoded data removed]",
      "text/plain": [
       "<Figure size 2160x2160 with 156 Axes>"
      ]
     },
     "metadata": {
      "needs_background": "light"
     },
     "output_type": "display_data"
    }
   ],
   "source": [
    "sns.set_style = 'whitegrid'\n",
    "sns.pairplot(match)"
   ]
  },
  {
   "cell_type": "code",
   "execution_count": 45,
   "metadata": {},
   "outputs": [
    {
     "data": {
      "text/plain": [
       "<matplotlib.axes._subplots.AxesSubplot at 0x1a22416fd0>"
      ]
     },
     "execution_count": 45,
     "metadata": {},
     "output_type": "execute_result"
    },
    {
     "data": {
      "image/png": "[encoded data removed]",
      "text/plain": [
       "<Figure size 432x288 with 1 Axes>"
      ]
     },
     "metadata": {
      "needs_background": "light"
     },
     "output_type": "display_data"
    }
   ],
   "source": [
    "sns.distplot(match['Attendance'],bins = 20)"
   ]
  },
  {
   "cell_type": "code",
   "execution_count": 46,
   "metadata": {},
   "outputs": [
    {
     "data": {
      "text/plain": [
       "<matplotlib.axes._subplots.AxesSubplot at 0x1a226534d0>"
      ]
     },
     "execution_count": 46,
     "metadata": {},
     "output_type": "execute_result"
    },
    {
     "data": {
      "image/png": "[encoded data removed]",
      "text/plain": [
       "<Figure size 432x288 with 1 Axes>"
      ]
     },
     "metadata": {
      "needs_background": "light"
     },
     "output_type": "display_data"
    }
   ],
   "source": [
    "sns.countplot(match['Year'])"
   ]
  },
  {
   "cell_type": "code",
   "execution_count": 47,
   "metadata": {},
   "outputs": [
    {
     "data": {
      "text/plain": [
       "<seaborn.axisgrid.FacetGrid at 0x1a2398bd10>"
      ]
     },
     "execution_count": 47,
     "metadata": {},
     "output_type": "execute_result"
    },
    {
     "data": {
      "image/png": "[encoded data removed]",
      "text/plain": [
       "<Figure size 360x360 with 1 Axes>"
      ]
     },
     "metadata": {
      "needs_background": "light"
     },
     "output_type": "display_data"
    }
   ],
   "source": [
    "sns.lmplot(x ='Half-time Goal Difference', y = 'big_dfference',data = match)"
   ]
  },
  {
   "cell_type": "code",
   "execution_count": 48,
   "metadata": {},
   "outputs": [
    {
     "data": {
      "text/plain": [
       "<matplotlib.axes._subplots.AxesSubplot at 0x1a23b634d0>"
      ]
     },
     "execution_count": 48,
     "metadata": {},
     "output_type": "execute_result"
    },
    {
     "data": {
      "image/png": "[encoded data removed]",
      "text/plain": [
       "<Figure size 864x720 with 1 Axes>"
      ]
     },
     "metadata": {
      "needs_background": "light"
     },
     "output_type": "display_data"
    }
   ],
   "source": [
    "plt.figure(figsize=(12,10))\n",
    "sns.distplot(match['home_team'])"
   ]
  },
  {
   "cell_type": "code",
   "execution_count": 54,
   "metadata": {},
   "outputs": [
    {
     "data": {
      "text/plain": [
       "<matplotlib.axes._subplots.AxesSubplot at 0x1a24a6a250>"
      ]
     },
     "execution_count": 54,
     "metadata": {},
     "output_type": "execute_result"
    },
    {
     "data": {
      "image/png": "[encoded data removed]",
      "text/plain": [
       "<Figure size 432x288 with 2 Axes>"
      ]
     },
     "metadata": {
      "needs_background": "light"
     },
     "output_type": "display_data"
    }
   ],
   "source": [
    "sns.heatmap(match.corr())"
   ]
  },
  {
   "cell_type": "code",
   "execution_count": 50,
   "metadata": {},
   "outputs": [
    {
     "data": {
      "text/plain": [
       "<seaborn.axisgrid.FacetGrid at 0x1a26f0f0d0>"
      ]
     },
     "execution_count": 50,
     "metadata": {},
     "output_type": "execute_result"
    },
    {
     "data": {
      "image/png": "[encoded data removed]",
      "text/plain": [
       "<Figure size 360x360 with 1 Axes>"
      ]
     },
     "metadata": {
      "needs_background": "light"
     },
     "output_type": "display_data"
    }
   ],
   "source": [
    "sns.lmplot(x = 'Attendance',y = 'big_dfference',data = match)"
   ]
  },
  {
   "cell_type": "code",
   "execution_count": 51,
   "metadata": {},
   "outputs": [
    {
     "data": {
      "text/plain": [
       "<seaborn.axisgrid.FacetGrid at 0x1a27897450>"
      ]
     },
     "execution_count": 51,
     "metadata": {},
     "output_type": "execute_result"
    },
    {
     "data": {
      "image/png": "[encoded data removed]",
      "text/plain": [
       "<Figure size 360x360 with 1 Axes>"
      ]
     },
     "metadata": {
      "needs_background": "light"
     },
     "output_type": "display_data"
    }
   ],
   "source": [
    "sns.lmplot(x = 'Year',y = 'big_dfference',data = match)"
   ]
  },
  {
   "cell_type": "code",
   "execution_count": 52,
   "metadata": {},
   "outputs": [
    {
     "data": {
      "text/plain": [
       "<matplotlib.axes._subplots.AxesSubplot at 0x1a2727d750>"
      ]
     },
     "execution_count": 52,
     "metadata": {},
     "output_type": "execute_result"
    },
    {
     "data": {
      "image/png": "[encoded data removed]",
      "text/plain": [
       "<Figure size 432x288 with 1 Axes>"
      ]
     },
     "metadata": {
      "needs_background": "light"
     },
     "output_type": "display_data"
    }
   ],
   "source": [
    "sns.countplot(match['big_dfference'])"
   ]
  },
  {
   "cell_type": "markdown",
   "metadata": {},
   "source": [
    "# Linear Regression"
   ]
  },
  {
   "cell_type": "code",
   "execution_count": 84,
   "metadata": {},
   "outputs": [],
   "source": [
    "from sklearn.model_selection import train_test_split"
   ]
  },
  {
   "cell_type": "code",
   "execution_count": 85,
   "metadata": {},
   "outputs": [
    {
     "data": {
      "text/plain": [
       "Index(['Year', 'Home Team Goals', 'Away Team Goals', 'Attendance',\n",
       "       'Half-time Home Goals', 'Half-time Away Goals',\n",
       "       'Half-time Goal Difference', 'Goal total', 'big_dfference', 'home_team',\n",
       "       'away_team', 'stage'],\n",
       "      dtype='object')"
      ]
     },
     "execution_count": 85,
     "metadata": {},
     "output_type": "execute_result"
    }
   ],
   "source": [
    "match.columns"
   ]
  },
  {
   "cell_type": "code",
   "execution_count": 86,
   "metadata": {},
   "outputs": [],
   "source": [
    "X=match.drop('big_dfference',axis = 1)\n",
    "y=match['big_dfference']"
   ]
  },
  {
   "cell_type": "code",
   "execution_count": 87,
   "metadata": {},
   "outputs": [],
   "source": [
    "X_train,X_test,y_train,y_test = train_test_split(X,y,test_size =0.2,random_state = 101)"
   ]
  },
  {
   "cell_type": "code",
   "execution_count": 88,
   "metadata": {},
   "outputs": [],
   "source": [
    "from sklearn.linear_model import LinearRegression"
   ]
  },
  {
   "cell_type": "code",
   "execution_count": 89,
   "metadata": {},
   "outputs": [],
   "source": [
    "lm = LinearRegression()"
   ]
  },
  {
   "cell_type": "code",
   "execution_count": 90,
   "metadata": {},
   "outputs": [
    {
     "data": {
      "text/plain": [
       "LinearRegression(copy_X=True, fit_intercept=True, n_jobs=None, normalize=False)"
      ]
     },
     "execution_count": 90,
     "metadata": {},
     "output_type": "execute_result"
    }
   ],
   "source": [
    "lm.fit(X_train,y_train)"
   ]
  },
  {
   "cell_type": "code",
   "execution_count": 91,
   "metadata": {},
   "outputs": [
    {
     "data": {
      "text/plain": [
       "array([-7.36547318e-04,  7.30105359e-02, -1.92645033e-02,  8.08267386e-07,\n",
       "       -8.05644076e-02,  1.18939405e-02,  1.68122001e-01,  5.37460326e-02,\n",
       "        4.66081391e-03,  2.99059265e-02,  2.35982628e-02])"
      ]
     },
     "execution_count": 91,
     "metadata": {},
     "output_type": "execute_result"
    }
   ],
   "source": [
    "lm.coef_"
   ]
  },
  {
   "cell_type": "code",
   "execution_count": 92,
   "metadata": {},
   "outputs": [],
   "source": [
    "pred = lm.predict(X_test)"
   ]
  },
  {
   "cell_type": "code",
   "execution_count": 93,
   "metadata": {},
   "outputs": [
    {
     "data": {
      "text/plain": [
       "<matplotlib.collections.PathCollection at 0x1a2b2176d0>"
      ]
     },
     "execution_count": 93,
     "metadata": {},
     "output_type": "execute_result"
    },
    {
     "data": {
      "image/png": "[encoded data removed]",
      "text/plain": [
       "<Figure size 432x288 with 1 Axes>"
      ]
     },
     "metadata": {
      "needs_background": "light"
     },
     "output_type": "display_data"
    }
   ],
   "source": [
    "plt.scatter(y_test,pred)"
   ]
  },
  {
   "cell_type": "code",
   "execution_count": 94,
   "metadata": {},
   "outputs": [
    {
     "data": {
      "text/html": [
       "<div>\n",
       "<style scoped>\n",
       "    .dataframe tbody tr th:only-of-type {\n",
       "        vertical-align: middle;\n",
       "    }\n",
       "\n",
       "    .dataframe tbody tr th {\n",
       "        vertical-align: top;\n",
       "    }\n",
       "\n",
       "    .dataframe thead th {\n",
       "        text-align: right;\n",
       "    }\n",
       "</style>\n",
       "<table border=\"1\" class=\"dataframe\">\n",
       "  <thead>\n",
       "    <tr style=\"text-align: right;\">\n",
       "      <th></th>\n",
       "      <th>Coefficient</th>\n",
       "    </tr>\n",
       "  </thead>\n",
       "  <tbody>\n",
       "    <tr>\n",
       "      <th>Year</th>\n",
       "      <td>-7.365473e-04</td>\n",
       "    </tr>\n",
       "    <tr>\n",
       "      <th>Home Team Goals</th>\n",
       "      <td>7.301054e-02</td>\n",
       "    </tr>\n",
       "    <tr>\n",
       "      <th>Away Team Goals</th>\n",
       "      <td>-1.926450e-02</td>\n",
       "    </tr>\n",
       "    <tr>\n",
       "      <th>Attendance</th>\n",
       "      <td>8.082674e-07</td>\n",
       "    </tr>\n",
       "    <tr>\n",
       "      <th>Half-time Home Goals</th>\n",
       "      <td>-8.056441e-02</td>\n",
       "    </tr>\n",
       "    <tr>\n",
       "      <th>Half-time Away Goals</th>\n",
       "      <td>1.189394e-02</td>\n",
       "    </tr>\n",
       "    <tr>\n",
       "      <th>Half-time Goal Difference</th>\n",
       "      <td>1.681220e-01</td>\n",
       "    </tr>\n",
       "    <tr>\n",
       "      <th>Goal total</th>\n",
       "      <td>5.374603e-02</td>\n",
       "    </tr>\n",
       "    <tr>\n",
       "      <th>home_team</th>\n",
       "      <td>4.660814e-03</td>\n",
       "    </tr>\n",
       "    <tr>\n",
       "      <th>away_team</th>\n",
       "      <td>2.990593e-02</td>\n",
       "    </tr>\n",
       "    <tr>\n",
       "      <th>stage</th>\n",
       "      <td>2.359826e-02</td>\n",
       "    </tr>\n",
       "  </tbody>\n",
       "</table>\n",
       "</div>"
      ],
      "text/plain": [
       "                            Coefficient\n",
       "Year                      -7.365473e-04\n",
       "Home Team Goals            7.301054e-02\n",
       "Away Team Goals           -1.926450e-02\n",
       "Attendance                 8.082674e-07\n",
       "Half-time Home Goals      -8.056441e-02\n",
       "Half-time Away Goals       1.189394e-02\n",
       "Half-time Goal Difference  1.681220e-01\n",
       "Goal total                 5.374603e-02\n",
       "home_team                  4.660814e-03\n",
       "away_team                  2.990593e-02\n",
       "stage                      2.359826e-02"
      ]
     },
     "execution_count": 94,
     "metadata": {},
     "output_type": "execute_result"
    }
   ],
   "source": [
    "coefficient = pd.DataFrame(lm.coef_,X.columns)\n",
    "coefficient.columns = ['Coefficient']\n",
    "coefficient"
   ]
  },
  {
   "cell_type": "markdown",
   "metadata": {},
   "source": [
    "# Logistic Regression"
   ]
  },
  {
   "cell_type": "code",
   "execution_count": 95,
   "metadata": {},
   "outputs": [],
   "source": [
    "from sklearn.linear_model import LogisticRegression"
   ]
  },
  {
   "cell_type": "code",
   "execution_count": 96,
   "metadata": {},
   "outputs": [],
   "source": [
    "logmodel = LogisticRegression()"
   ]
  },
  {
   "cell_type": "code",
   "execution_count": 97,
   "metadata": {},
   "outputs": [
    {
     "data": {
      "text/plain": [
       "LogisticRegression(C=1.0, class_weight=None, dual=False, fit_intercept=True,\n",
       "                   intercept_scaling=1, l1_ratio=None, max_iter=100,\n",
       "                   multi_class='auto', n_jobs=None, penalty='l2',\n",
       "                   random_state=None, solver='lbfgs', tol=0.0001, verbose=0,\n",
       "                   warm_start=False)"
      ]
     },
     "execution_count": 97,
     "metadata": {},
     "output_type": "execute_result"
    }
   ],
   "source": [
    "logmodel.fit(X_train,y_train)"
   ]
  },
  {
   "cell_type": "code",
   "execution_count": 98,
   "metadata": {},
   "outputs": [],
   "source": [
    "prediction = logmodel.predict(X_test)"
   ]
  },
  {
   "cell_type": "code",
   "execution_count": 99,
   "metadata": {},
   "outputs": [],
   "source": [
    "from sklearn.metrics import classification_report,confusion_matrix"
   ]
  },
  {
   "cell_type": "code",
   "execution_count": 100,
   "metadata": {},
   "outputs": [
    {
     "name": "stdout",
     "output_type": "stream",
     "text": [
      "              precision    recall  f1-score   support\n",
      "\n",
      "           0       0.81      0.86      0.83       111\n",
      "           1       0.71      0.61      0.65        59\n",
      "\n",
      "    accuracy                           0.78       170\n",
      "   macro avg       0.76      0.74      0.74       170\n",
      "weighted avg       0.77      0.78      0.77       170\n",
      "\n"
     ]
    }
   ],
   "source": [
    "print(classification_report(y_test,prediction))"
   ]
  },
  {
   "cell_type": "code",
   "execution_count": 101,
   "metadata": {},
   "outputs": [
    {
     "name": "stdout",
     "output_type": "stream",
     "text": [
      "[[96 15]\n",
      " [23 36]]\n"
     ]
    }
   ],
   "source": [
    "print(confusion_matrix(y_test,prediction))"
   ]
  },
  {
   "cell_type": "markdown",
   "metadata": {},
   "source": [
    " # KNN"
   ]
  },
  {
   "cell_type": "code",
   "execution_count": 102,
   "metadata": {},
   "outputs": [],
   "source": [
    "from sklearn.neighbors import KNeighborsClassifier"
   ]
  },
  {
   "cell_type": "code",
   "execution_count": 103,
   "metadata": {},
   "outputs": [],
   "source": [
    "knn_model = KNeighborsClassifier(n_neighbors = 1)"
   ]
  },
  {
   "cell_type": "code",
   "execution_count": 104,
   "metadata": {},
   "outputs": [],
   "source": [
    "from sklearn.preprocessing import StandardScaler\n",
    "scaler = StandardScaler()"
   ]
  },
  {
   "cell_type": "code",
   "execution_count": 105,
   "metadata": {},
   "outputs": [],
   "source": [
    "scaler = StandardScaler()"
   ]
  },
  {
   "cell_type": "code",
   "execution_count": 106,
   "metadata": {},
   "outputs": [
    {
     "data": {
      "text/plain": [
       "StandardScaler(copy=True, with_mean=True, with_std=True)"
      ]
     },
     "execution_count": 106,
     "metadata": {},
     "output_type": "execute_result"
    }
   ],
   "source": [
    "scaler.fit(match.drop('big_dfference',axis = 1))"
   ]
  },
  {
   "cell_type": "code",
   "execution_count": 107,
   "metadata": {},
   "outputs": [],
   "source": [
    "scaled_features = scaler.transform(match.drop('big_dfference',axis = 1))"
   ]
  },
  {
   "cell_type": "code",
   "execution_count": 108,
   "metadata": {},
   "outputs": [
    {
     "data": {
      "text/html": [
       "<div>\n",
       "<style scoped>\n",
       "    .dataframe tbody tr th:only-of-type {\n",
       "        vertical-align: middle;\n",
       "    }\n",
       "\n",
       "    .dataframe tbody tr th {\n",
       "        vertical-align: top;\n",
       "    }\n",
       "\n",
       "    .dataframe thead th {\n",
       "        text-align: right;\n",
       "    }\n",
       "</style>\n",
       "<table border=\"1\" class=\"dataframe\">\n",
       "  <thead>\n",
       "    <tr style=\"text-align: right;\">\n",
       "      <th></th>\n",
       "      <th>Year</th>\n",
       "      <th>Home Team Goals</th>\n",
       "      <th>Away Team Goals</th>\n",
       "      <th>Attendance</th>\n",
       "      <th>Half-time Home Goals</th>\n",
       "      <th>Half-time Away Goals</th>\n",
       "      <th>Half-time Goal Difference</th>\n",
       "      <th>Goal total</th>\n",
       "      <th>big_dfference</th>\n",
       "      <th>home_team</th>\n",
       "      <th>away_team</th>\n",
       "    </tr>\n",
       "  </thead>\n",
       "  <tbody>\n",
       "    <tr>\n",
       "      <th>0</th>\n",
       "      <td>-2.454319</td>\n",
       "      <td>1.358891</td>\n",
       "      <td>-0.020541</td>\n",
       "      <td>-1.734909</td>\n",
       "      <td>2.442473</td>\n",
       "      <td>-0.621125</td>\n",
       "      <td>2.461888</td>\n",
       "      <td>1.108205</td>\n",
       "      <td>-0.752376</td>\n",
       "      <td>1.100959</td>\n",
       "      <td>-0.515105</td>\n",
       "    </tr>\n",
       "    <tr>\n",
       "      <th>1</th>\n",
       "      <td>-2.454319</td>\n",
       "      <td>0.738226</td>\n",
       "      <td>-0.939479</td>\n",
       "      <td>-1.142615</td>\n",
       "      <td>1.375617</td>\n",
       "      <td>-0.621125</td>\n",
       "      <td>1.361096</td>\n",
       "      <td>0.085432</td>\n",
       "      <td>0.977614</td>\n",
       "      <td>-0.754590</td>\n",
       "      <td>-0.515105</td>\n",
       "    </tr>\n",
       "    <tr>\n",
       "      <th>2</th>\n",
       "      <td>-2.454319</td>\n",
       "      <td>0.117561</td>\n",
       "      <td>-0.020541</td>\n",
       "      <td>-0.899212</td>\n",
       "      <td>1.375617</td>\n",
       "      <td>-0.621125</td>\n",
       "      <td>1.361096</td>\n",
       "      <td>0.085432</td>\n",
       "      <td>-0.752376</td>\n",
       "      <td>1.719475</td>\n",
       "      <td>-0.515105</td>\n",
       "    </tr>\n",
       "    <tr>\n",
       "      <th>3</th>\n",
       "      <td>-2.454319</td>\n",
       "      <td>0.738226</td>\n",
       "      <td>-0.020541</td>\n",
       "      <td>-1.815646</td>\n",
       "      <td>0.308761</td>\n",
       "      <td>-0.621125</td>\n",
       "      <td>0.260305</td>\n",
       "      <td>0.596818</td>\n",
       "      <td>-0.752376</td>\n",
       "      <td>1.719475</td>\n",
       "      <td>-0.515105</td>\n",
       "    </tr>\n",
       "    <tr>\n",
       "      <th>4</th>\n",
       "      <td>-2.454319</td>\n",
       "      <td>-0.503103</td>\n",
       "      <td>-0.939479</td>\n",
       "      <td>-0.926906</td>\n",
       "      <td>-0.758096</td>\n",
       "      <td>-0.621125</td>\n",
       "      <td>-0.840487</td>\n",
       "      <td>-0.937341</td>\n",
       "      <td>1.554277</td>\n",
       "      <td>-0.754590</td>\n",
       "      <td>-0.515105</td>\n",
       "    </tr>\n",
       "    <tr>\n",
       "      <th>...</th>\n",
       "      <td>...</td>\n",
       "      <td>...</td>\n",
       "      <td>...</td>\n",
       "      <td>...</td>\n",
       "      <td>...</td>\n",
       "      <td>...</td>\n",
       "      <td>...</td>\n",
       "      <td>...</td>\n",
       "      <td>...</td>\n",
       "      <td>...</td>\n",
       "      <td>...</td>\n",
       "    </tr>\n",
       "    <tr>\n",
       "      <th>845</th>\n",
       "      <td>1.292653</td>\n",
       "      <td>-1.123768</td>\n",
       "      <td>-0.939479</td>\n",
       "      <td>0.256235</td>\n",
       "      <td>-0.758096</td>\n",
       "      <td>-0.621125</td>\n",
       "      <td>-0.840487</td>\n",
       "      <td>-1.448728</td>\n",
       "      <td>-0.752376</td>\n",
       "      <td>1.100959</td>\n",
       "      <td>1.448300</td>\n",
       "    </tr>\n",
       "    <tr>\n",
       "      <th>846</th>\n",
       "      <td>1.292653</td>\n",
       "      <td>-0.503103</td>\n",
       "      <td>5.493089</td>\n",
       "      <td>0.552851</td>\n",
       "      <td>-0.758096</td>\n",
       "      <td>6.611150</td>\n",
       "      <td>4.663471</td>\n",
       "      <td>2.642364</td>\n",
       "      <td>1.554277</td>\n",
       "      <td>-0.754590</td>\n",
       "      <td>1.448300</td>\n",
       "    </tr>\n",
       "    <tr>\n",
       "      <th>847</th>\n",
       "      <td>1.292653</td>\n",
       "      <td>-1.123768</td>\n",
       "      <td>-0.939479</td>\n",
       "      <td>0.771244</td>\n",
       "      <td>-0.758096</td>\n",
       "      <td>-0.621125</td>\n",
       "      <td>-0.840487</td>\n",
       "      <td>-1.448728</td>\n",
       "      <td>-0.752376</td>\n",
       "      <td>1.719475</td>\n",
       "      <td>1.448300</td>\n",
       "    </tr>\n",
       "    <tr>\n",
       "      <th>848</th>\n",
       "      <td>1.292653</td>\n",
       "      <td>-1.123768</td>\n",
       "      <td>1.817336</td>\n",
       "      <td>0.974342</td>\n",
       "      <td>-0.758096</td>\n",
       "      <td>2.271785</td>\n",
       "      <td>1.361096</td>\n",
       "      <td>0.085432</td>\n",
       "      <td>1.554277</td>\n",
       "      <td>-0.754590</td>\n",
       "      <td>1.448300</td>\n",
       "    </tr>\n",
       "    <tr>\n",
       "      <th>849</th>\n",
       "      <td>1.292653</td>\n",
       "      <td>-0.503103</td>\n",
       "      <td>-0.939479</td>\n",
       "      <td>1.259966</td>\n",
       "      <td>-0.758096</td>\n",
       "      <td>-0.621125</td>\n",
       "      <td>-0.840487</td>\n",
       "      <td>-0.937341</td>\n",
       "      <td>-0.752376</td>\n",
       "      <td>1.719475</td>\n",
       "      <td>3.411704</td>\n",
       "    </tr>\n",
       "  </tbody>\n",
       "</table>\n",
       "<p>850 rows × 11 columns</p>\n",
       "</div>"
      ],
      "text/plain": [
       "         Year  Home Team Goals  Away Team Goals  Attendance  \\\n",
       "0   -2.454319         1.358891        -0.020541   -1.734909   \n",
       "1   -2.454319         0.738226        -0.939479   -1.142615   \n",
       "2   -2.454319         0.117561        -0.020541   -0.899212   \n",
       "3   -2.454319         0.738226        -0.020541   -1.815646   \n",
       "4   -2.454319        -0.503103        -0.939479   -0.926906   \n",
       "..        ...              ...              ...         ...   \n",
       "845  1.292653        -1.123768        -0.939479    0.256235   \n",
       "846  1.292653        -0.503103         5.493089    0.552851   \n",
       "847  1.292653        -1.123768        -0.939479    0.771244   \n",
       "848  1.292653        -1.123768         1.817336    0.974342   \n",
       "849  1.292653        -0.503103        -0.939479    1.259966   \n",
       "\n",
       "     Half-time Home Goals  Half-time Away Goals  Half-time Goal Difference  \\\n",
       "0                2.442473             -0.621125                   2.461888   \n",
       "1                1.375617             -0.621125                   1.361096   \n",
       "2                1.375617             -0.621125                   1.361096   \n",
       "3                0.308761             -0.621125                   0.260305   \n",
       "4               -0.758096             -0.621125                  -0.840487   \n",
       "..                    ...                   ...                        ...   \n",
       "845             -0.758096             -0.621125                  -0.840487   \n",
       "846             -0.758096              6.611150                   4.663471   \n",
       "847             -0.758096             -0.621125                  -0.840487   \n",
       "848             -0.758096              2.271785                   1.361096   \n",
       "849             -0.758096             -0.621125                  -0.840487   \n",
       "\n",
       "     Goal total  big_dfference  home_team  away_team  \n",
       "0      1.108205      -0.752376   1.100959  -0.515105  \n",
       "1      0.085432       0.977614  -0.754590  -0.515105  \n",
       "2      0.085432      -0.752376   1.719475  -0.515105  \n",
       "3      0.596818      -0.752376   1.719475  -0.515105  \n",
       "4     -0.937341       1.554277  -0.754590  -0.515105  \n",
       "..          ...            ...        ...        ...  \n",
       "845   -1.448728      -0.752376   1.100959   1.448300  \n",
       "846    2.642364       1.554277  -0.754590   1.448300  \n",
       "847   -1.448728      -0.752376   1.719475   1.448300  \n",
       "848    0.085432       1.554277  -0.754590   1.448300  \n",
       "849   -0.937341      -0.752376   1.719475   3.411704  \n",
       "\n",
       "[850 rows x 11 columns]"
      ]
     },
     "execution_count": 108,
     "metadata": {},
     "output_type": "execute_result"
    }
   ],
   "source": [
    "match_feat = pd.DataFrame(scaled_features,columns = match.columns [:-1])\n",
    "match_feat"
   ]
  },
  {
   "cell_type": "code",
   "execution_count": 109,
   "metadata": {},
   "outputs": [],
   "source": [
    "from sklearn.model_selection import train_test_split"
   ]
  },
  {
   "cell_type": "code",
   "execution_count": 110,
   "metadata": {},
   "outputs": [],
   "source": [
    "X_train,X_test,y_train,y_test = train_test_split(scaled_features,match['big_dfference'],test_size = 0.2,random_state = 101)"
   ]
  },
  {
   "cell_type": "code",
   "execution_count": 111,
   "metadata": {},
   "outputs": [
    {
     "data": {
      "text/plain": [
       "KNeighborsClassifier(algorithm='auto', leaf_size=30, metric='minkowski',\n",
       "                     metric_params=None, n_jobs=None, n_neighbors=1, p=2,\n",
       "                     weights='uniform')"
      ]
     },
     "execution_count": 111,
     "metadata": {},
     "output_type": "execute_result"
    }
   ],
   "source": [
    "knn_model.fit(X_train,y_train)"
   ]
  },
  {
   "cell_type": "code",
   "execution_count": 112,
   "metadata": {},
   "outputs": [],
   "source": [
    "pred = knn_model.predict(X_test)"
   ]
  },
  {
   "cell_type": "code",
   "execution_count": 113,
   "metadata": {},
   "outputs": [],
   "source": [
    "from sklearn.metrics import classification_report, confusion_matrix"
   ]
  },
  {
   "cell_type": "code",
   "execution_count": 114,
   "metadata": {},
   "outputs": [
    {
     "name": "stdout",
     "output_type": "stream",
     "text": [
      "[[99 12]\n",
      " [ 9 50]]\n"
     ]
    }
   ],
   "source": [
    "print(confusion_matrix(y_test,pred))"
   ]
  },
  {
   "cell_type": "code",
   "execution_count": 115,
   "metadata": {},
   "outputs": [
    {
     "name": "stdout",
     "output_type": "stream",
     "text": [
      "              precision    recall  f1-score   support\n",
      "\n",
      "           0       0.92      0.89      0.90       111\n",
      "           1       0.81      0.85      0.83        59\n",
      "\n",
      "    accuracy                           0.88       170\n",
      "   macro avg       0.86      0.87      0.87       170\n",
      "weighted avg       0.88      0.88      0.88       170\n",
      "\n"
     ]
    }
   ],
   "source": [
    "print(classification_report(y_test,pred))"
   ]
  },
  {
   "cell_type": "code",
   "execution_count": 116,
   "metadata": {},
   "outputs": [
    {
     "name": "stdout",
     "output_type": "stream",
     "text": [
      "[0.12352941176470589, 0.17647058823529413, 0.1588235294117647, 0.1411764705882353, 0.1588235294117647, 0.17058823529411765, 0.21176470588235294, 0.18235294117647058, 0.20588235294117646, 0.19411764705882353, 0.2, 0.2, 0.19411764705882353, 0.20588235294117646, 0.2, 0.20588235294117646, 0.20588235294117646, 0.21176470588235294, 0.20588235294117646, 0.21176470588235294, 0.20588235294117646, 0.2, 0.2, 0.19411764705882353, 0.19411764705882353, 0.2, 0.18823529411764706, 0.19411764705882353, 0.19411764705882353, 0.2, 0.2, 0.20588235294117646, 0.20588235294117646, 0.20588235294117646, 0.19411764705882353, 0.19411764705882353, 0.18823529411764706, 0.19411764705882353, 0.19411764705882353]\n"
     ]
    }
   ],
   "source": [
    "error_rate = []\n",
    "for i in range(1,40):\n",
    "    knn_model = KNeighborsClassifier(n_neighbors = i)\n",
    "    knn_model.fit(X_train,y_train)\n",
    "    pred = knn_model.predict(X_test)\n",
    "    error_rate.append(np.mean(pred != y_test))\n",
    "\n",
    "print(error_rate)"
   ]
  },
  {
   "cell_type": "code",
   "execution_count": 117,
   "metadata": {},
   "outputs": [
    {
     "data": {
      "text/plain": [
       "Text(0, 0.5, 'Error Rate')"
      ]
     },
     "execution_count": 117,
     "metadata": {},
     "output_type": "execute_result"
    },
    {
     "data": {
      "image/png": "[encoded data removed]",
      "text/plain": [
       "<Figure size 720x432 with 1 Axes>"
      ]
     },
     "metadata": {
      "needs_background": "light"
     },
     "output_type": "display_data"
    }
   ],
   "source": [
    "plt.figure(figsize=(10,6))\n",
    "plt.plot(range(1,40),error_rate,color ='Yellow',linestyle = 'dashed',marker = 'o',markerfacecolor = 'Purple',markersize = 10)\n",
    "plt.title('Error Rate VS K value')\n",
    "plt.xlabel('K')\n",
    "plt.ylabel('Error Rate')"
   ]
  },
  {
   "cell_type": "code",
   "execution_count": 118,
   "metadata": {},
   "outputs": [
    {
     "name": "stdout",
     "output_type": "stream",
     "text": [
      "[[108   3]\n",
      " [ 21  38]]\n"
     ]
    }
   ],
   "source": [
    "knn_model = KNeighborsClassifier(n_neighbors = 4)\n",
    "knn_model.fit(X_train,y_train)\n",
    "pred = knn_model.predict(X_test)\n",
    "\n",
    "print(confusion_matrix(y_test,pred))"
   ]
  },
  {
   "cell_type": "code",
   "execution_count": 119,
   "metadata": {},
   "outputs": [
    {
     "name": "stdout",
     "output_type": "stream",
     "text": [
      "              precision    recall  f1-score   support\n",
      "\n",
      "           0       0.84      0.97      0.90       111\n",
      "           1       0.93      0.64      0.76        59\n",
      "\n",
      "    accuracy                           0.86       170\n",
      "   macro avg       0.88      0.81      0.83       170\n",
      "weighted avg       0.87      0.86      0.85       170\n",
      "\n"
     ]
    }
   ],
   "source": [
    "print(classification_report(y_test,pred))"
   ]
  },
  {
   "cell_type": "markdown",
   "metadata": {},
   "source": [
    "# Linear Regression"
   ]
  },
  {
   "cell_type": "code",
   "execution_count": 120,
   "metadata": {},
   "outputs": [
    {
     "data": {
      "text/plain": [
       "LinearRegression(copy_X=True, fit_intercept=True, n_jobs=None, normalize=False)"
      ]
     },
     "execution_count": 120,
     "metadata": {},
     "output_type": "execute_result"
    }
   ],
   "source": [
    "lm.fit(X_train,y_train)"
   ]
  },
  {
   "cell_type": "code",
   "execution_count": 121,
   "metadata": {},
   "outputs": [
    {
     "data": {
      "text/plain": [
       "array([-0.01651199,  0.12585467, -0.01541071,  0.01897119, -0.0755157 ,\n",
       "        0.00822282,  0.15272828,  0.09511988,  0.00808239,  0.04835108,\n",
       "        0.01201905])"
      ]
     },
     "execution_count": 121,
     "metadata": {},
     "output_type": "execute_result"
    }
   ],
   "source": [
    "lm.coef_"
   ]
  },
  {
   "cell_type": "code",
   "execution_count": 122,
   "metadata": {},
   "outputs": [],
   "source": [
    "pred = lm.predict(X_test)"
   ]
  },
  {
   "cell_type": "code",
   "execution_count": 123,
   "metadata": {},
   "outputs": [],
   "source": [
    "pred = knn_model.predict(X_test)"
   ]
  },
  {
   "cell_type": "code",
   "execution_count": 124,
   "metadata": {},
   "outputs": [
    {
     "data": {
      "text/html": [
       "<div>\n",
       "<style scoped>\n",
       "    .dataframe tbody tr th:only-of-type {\n",
       "        vertical-align: middle;\n",
       "    }\n",
       "\n",
       "    .dataframe tbody tr th {\n",
       "        vertical-align: top;\n",
       "    }\n",
       "\n",
       "    .dataframe thead th {\n",
       "        text-align: right;\n",
       "    }\n",
       "</style>\n",
       "<table border=\"1\" class=\"dataframe\">\n",
       "  <thead>\n",
       "    <tr style=\"text-align: right;\">\n",
       "      <th></th>\n",
       "      <th>Coefficient</th>\n",
       "    </tr>\n",
       "  </thead>\n",
       "  <tbody>\n",
       "    <tr>\n",
       "      <th>Year</th>\n",
       "      <td>-0.016512</td>\n",
       "    </tr>\n",
       "    <tr>\n",
       "      <th>Home Team Goals</th>\n",
       "      <td>0.125855</td>\n",
       "    </tr>\n",
       "    <tr>\n",
       "      <th>Away Team Goals</th>\n",
       "      <td>-0.015411</td>\n",
       "    </tr>\n",
       "    <tr>\n",
       "      <th>Attendance</th>\n",
       "      <td>0.018971</td>\n",
       "    </tr>\n",
       "    <tr>\n",
       "      <th>Half-time Home Goals</th>\n",
       "      <td>-0.075516</td>\n",
       "    </tr>\n",
       "    <tr>\n",
       "      <th>Half-time Away Goals</th>\n",
       "      <td>0.008223</td>\n",
       "    </tr>\n",
       "    <tr>\n",
       "      <th>Half-time Goal Difference</th>\n",
       "      <td>0.152728</td>\n",
       "    </tr>\n",
       "    <tr>\n",
       "      <th>Goal total</th>\n",
       "      <td>0.095120</td>\n",
       "    </tr>\n",
       "    <tr>\n",
       "      <th>home_team</th>\n",
       "      <td>0.008082</td>\n",
       "    </tr>\n",
       "    <tr>\n",
       "      <th>away_team</th>\n",
       "      <td>0.048351</td>\n",
       "    </tr>\n",
       "    <tr>\n",
       "      <th>stage</th>\n",
       "      <td>0.012019</td>\n",
       "    </tr>\n",
       "  </tbody>\n",
       "</table>\n",
       "</div>"
      ],
      "text/plain": [
       "                           Coefficient\n",
       "Year                         -0.016512\n",
       "Home Team Goals               0.125855\n",
       "Away Team Goals              -0.015411\n",
       "Attendance                    0.018971\n",
       "Half-time Home Goals         -0.075516\n",
       "Half-time Away Goals          0.008223\n",
       "Half-time Goal Difference     0.152728\n",
       "Goal total                    0.095120\n",
       "home_team                     0.008082\n",
       "away_team                     0.048351\n",
       "stage                         0.012019"
      ]
     },
     "execution_count": 124,
     "metadata": {},
     "output_type": "execute_result"
    }
   ],
   "source": [
    "coefficient = pd.DataFrame(lm.coef_,X.columns)\n",
    "coefficient.columns = ['Coefficient']\n",
    "coefficient"
   ]
  },
  {
   "cell_type": "markdown",
   "metadata": {},
   "source": [
    "# decision tree"
   ]
  },
  {
   "cell_type": "code",
   "execution_count": 125,
   "metadata": {},
   "outputs": [],
   "source": [
    "from sklearn.tree import DecisionTreeClassifier"
   ]
  },
  {
   "cell_type": "code",
   "execution_count": 126,
   "metadata": {},
   "outputs": [],
   "source": [
    "dtree = DecisionTreeClassifier()"
   ]
  },
  {
   "cell_type": "code",
   "execution_count": 127,
   "metadata": {},
   "outputs": [
    {
     "data": {
      "text/plain": [
       "DecisionTreeClassifier(ccp_alpha=0.0, class_weight=None, criterion='gini',\n",
       "                       max_depth=None, max_features=None, max_leaf_nodes=None,\n",
       "                       min_impurity_decrease=0.0, min_impurity_split=None,\n",
       "                       min_samples_leaf=1, min_samples_split=2,\n",
       "                       min_weight_fraction_leaf=0.0, presort='deprecated',\n",
       "                       random_state=None, splitter='best')"
      ]
     },
     "execution_count": 127,
     "metadata": {},
     "output_type": "execute_result"
    }
   ],
   "source": [
    "dtree.fit(X_train,y_train)"
   ]
  },
  {
   "cell_type": "code",
   "execution_count": 128,
   "metadata": {},
   "outputs": [
    {
     "name": "stdout",
     "output_type": "stream",
     "text": [
      "[0 0 1 0 0 0 0 0 1 1 1 1 0 0 0 0 0 1 0 0 1 0 1 1 1 0 0 0 0 0 0 1 0 0 1 1 1\n",
      " 0 1 1 0 0 0 1 0 0 0 1 0 0 0 1 0 0 0 0 0 1 0 0 1 1 0 1 0 0 0 0 0 0 0 0 0 1\n",
      " 0 0 0 0 0 1 0 0 0 0 0 0 0 1 0 0 0 1 0 0 0 0 0 1 1 1 1 1 0 1 0 0 1 1 1 0 0\n",
      " 0 1 1 1 0 1 1 1 0 1 0 1 0 0 0 0 1 0 1 0 0 1 0 0 0 1 1 0 1 0 0 0 1 0 0 0 1\n",
      " 0 1 1 0 1 1 0 0 0 0 1 0 1 0 0 0 0 1 0 0 0 0]\n",
      "605    0\n",
      "689    0\n",
      "679    1\n",
      "174    0\n",
      "747    0\n",
      "      ..\n",
      "468    1\n",
      "517    0\n",
      "448    0\n",
      "746    0\n",
      "374    0\n",
      "Name: big_dfference, Length: 170, dtype: int64\n"
     ]
    }
   ],
   "source": [
    "pred = dtree.predict(X_test)\n",
    "print(pred)\n",
    "print(y_test)"
   ]
  },
  {
   "cell_type": "code",
   "execution_count": 129,
   "metadata": {},
   "outputs": [],
   "source": [
    "from sklearn.metrics import classification_report,confusion_matrix"
   ]
  },
  {
   "cell_type": "code",
   "execution_count": 130,
   "metadata": {},
   "outputs": [
    {
     "name": "stdout",
     "output_type": "stream",
     "text": [
      "              precision    recall  f1-score   support\n",
      "\n",
      "           0       1.00      1.00      1.00       111\n",
      "           1       1.00      1.00      1.00        59\n",
      "\n",
      "    accuracy                           1.00       170\n",
      "   macro avg       1.00      1.00      1.00       170\n",
      "weighted avg       1.00      1.00      1.00       170\n",
      "\n"
     ]
    }
   ],
   "source": [
    "print(classification_report(y_test,pred))"
   ]
  },
  {
   "cell_type": "code",
   "execution_count": 131,
   "metadata": {},
   "outputs": [
    {
     "name": "stdout",
     "output_type": "stream",
     "text": [
      "[[111   0]\n",
      " [  0  59]]\n"
     ]
    }
   ],
   "source": [
    "print(confusion_matrix(y_test,pred))"
   ]
  },
  {
   "cell_type": "code",
   "execution_count": 132,
   "metadata": {},
   "outputs": [
    {
     "data": {
      "text/plain": [
       "array([0.        , 0.5256134 , 0.4152576 , 0.00590454, 0.        ,\n",
       "       0.        , 0.        , 0.04912408, 0.        , 0.        ,\n",
       "       0.00410037])"
      ]
     },
     "execution_count": 132,
     "metadata": {},
     "output_type": "execute_result"
    }
   ],
   "source": [
    "dtree.feature_importances_"
   ]
  },
  {
   "cell_type": "markdown",
   "metadata": {},
   "source": [
    "# SVC"
   ]
  },
  {
   "cell_type": "code",
   "execution_count": 103,
   "metadata": {},
   "outputs": [],
   "source": [
    "from sklearn.svm import SVC"
   ]
  },
  {
   "cell_type": "code",
   "execution_count": 104,
   "metadata": {},
   "outputs": [],
   "source": [
    "model = SVC()"
   ]
  },
  {
   "cell_type": "code",
   "execution_count": 105,
   "metadata": {},
   "outputs": [
    {
     "data": {
      "text/plain": [
       "SVC(C=1.0, break_ties=False, cache_size=200, class_weight=None, coef0=0.0,\n",
       "    decision_function_shape='ovr', degree=3, gamma='scale', kernel='rbf',\n",
       "    max_iter=-1, probability=False, random_state=None, shrinking=True,\n",
       "    tol=0.001, verbose=False)"
      ]
     },
     "execution_count": 105,
     "metadata": {},
     "output_type": "execute_result"
    }
   ],
   "source": [
    "model.fit(X_train,y_train)"
   ]
  },
  {
   "cell_type": "code",
   "execution_count": 106,
   "metadata": {},
   "outputs": [],
   "source": [
    "pred = model.predict(X_test)"
   ]
  },
  {
   "cell_type": "code",
   "execution_count": 107,
   "metadata": {},
   "outputs": [],
   "source": [
    "from sklearn.metrics import classification_report,confusion_matrix"
   ]
  },
  {
   "cell_type": "code",
   "execution_count": 108,
   "metadata": {},
   "outputs": [
    {
     "name": "stdout",
     "output_type": "stream",
     "text": [
      "              precision    recall  f1-score   support\n",
      "\n",
      "           0       0.90      0.96      0.93       111\n",
      "           1       0.92      0.80      0.85        59\n",
      "\n",
      "    accuracy                           0.91       170\n",
      "   macro avg       0.91      0.88      0.89       170\n",
      "weighted avg       0.91      0.91      0.90       170\n",
      "\n"
     ]
    }
   ],
   "source": [
    "print(classification_report(y_test,pred))"
   ]
  },
  {
   "cell_type": "code",
   "execution_count": 109,
   "metadata": {},
   "outputs": [
    {
     "name": "stdout",
     "output_type": "stream",
     "text": [
      "[[107   4]\n",
      " [ 12  47]]\n"
     ]
    }
   ],
   "source": [
    "print(confusion_matrix(y_test,pred))"
   ]
  },
  {
   "cell_type": "code",
   "execution_count": 110,
   "metadata": {},
   "outputs": [],
   "source": [
    "param_grid = {'C':[1,10,100,1000],'gamma':[1,0.1,0.01,0.001]}"
   ]
  },
  {
   "cell_type": "code",
   "execution_count": 111,
   "metadata": {},
   "outputs": [],
   "source": [
    "from sklearn.model_selection import GridSearchCV"
   ]
  },
  {
   "cell_type": "code",
   "execution_count": 112,
   "metadata": {},
   "outputs": [],
   "source": [
    "grid = GridSearchCV(SVC(),param_grid,refit = True,verbose  = 3)"
   ]
  },
  {
   "cell_type": "code",
   "execution_count": 113,
   "metadata": {},
   "outputs": [
    {
     "name": "stdout",
     "output_type": "stream",
     "text": [
      "Fitting 5 folds for each of 16 candidates, totalling 80 fits\n",
      "[CV] C=1, gamma=1 ....................................................\n",
      "[CV] ........................ C=1, gamma=1, score=0.868, total=   0.0s\n",
      "[CV] C=1, gamma=1 ....................................................\n",
      "[CV] ........................ C=1, gamma=1, score=0.831, total=   0.0s\n",
      "[CV] C=1, gamma=1 ....................................................\n",
      "[CV] ........................ C=1, gamma=1, score=0.809, total=   0.0s\n",
      "[CV] C=1, gamma=1 ....................................................\n",
      "[CV] ........................ C=1, gamma=1, score=0.816, total=   0.0s\n",
      "[CV] C=1, gamma=1 ....................................................\n",
      "[CV] ........................ C=1, gamma=1, score=0.794, total=   0.0s\n",
      "[CV] C=1, gamma=0.1 ..................................................\n",
      "[CV] ...................... C=1, gamma=0.1, score=0.875, total=   0.0s\n",
      "[CV] C=1, gamma=0.1 ..................................................\n",
      "[CV] ...................... C=1, gamma=0.1, score=0.904, total=   0.0s\n",
      "[CV] C=1, gamma=0.1 ..................................................\n",
      "[CV] ...................... C=1, gamma=0.1, score=0.897, total=   0.0s\n",
      "[CV] C=1, gamma=0.1 ..................................................\n",
      "[CV] ...................... C=1, gamma=0.1, score=0.853, total=   0.0s\n",
      "[CV] C=1, gamma=0.1 ..................................................\n",
      "[CV] ...................... C=1, gamma=0.1, score=0.831, total=   0.0s\n",
      "[CV] C=1, gamma=0.01 .................................................\n",
      "[CV] ..................... C=1, gamma=0.01, score=0.794, total=   0.0s\n",
      "[CV] C=1, gamma=0.01 .................................................\n",
      "[CV] ..................... C=1, gamma=0.01, score=0.757, total=   0.0s\n",
      "[CV] C=1, gamma=0.01 .................................................\n",
      "[CV] ..................... C=1, gamma=0.01, score=0.772, total=   0.0s\n",
      "[CV] C=1, gamma=0.01 .................................................\n",
      "[CV] ..................... C=1, gamma=0.01, score=0.743, total=   0.0s\n",
      "[CV] C=1, gamma=0.01 .................................................\n",
      "[CV] ..................... C=1, gamma=0.01, score=0.750, total=   0.0s\n",
      "[CV] C=1, gamma=0.001 ................................................\n"
     ]
    },
    {
     "name": "stderr",
     "output_type": "stream",
     "text": [
      "[Parallel(n_jobs=1)]: Using backend SequentialBackend with 1 concurrent workers.\n",
      "[Parallel(n_jobs=1)]: Done   1 out of   1 | elapsed:    0.0s remaining:    0.0s\n",
      "[Parallel(n_jobs=1)]: Done   2 out of   2 | elapsed:    0.0s remaining:    0.0s\n"
     ]
    },
    {
     "name": "stdout",
     "output_type": "stream",
     "text": [
      "[CV] .................... C=1, gamma=0.001, score=0.721, total=   0.0s\n",
      "[CV] C=1, gamma=0.001 ................................................\n",
      "[CV] .................... C=1, gamma=0.001, score=0.699, total=   0.0s\n",
      "[CV] C=1, gamma=0.001 ................................................\n",
      "[CV] .................... C=1, gamma=0.001, score=0.772, total=   0.0s\n",
      "[CV] C=1, gamma=0.001 ................................................\n",
      "[CV] .................... C=1, gamma=0.001, score=0.713, total=   0.0s\n",
      "[CV] C=1, gamma=0.001 ................................................\n",
      "[CV] .................... C=1, gamma=0.001, score=0.684, total=   0.0s\n",
      "[CV] C=10, gamma=1 ...................................................\n",
      "[CV] ....................... C=10, gamma=1, score=0.875, total=   0.0s\n",
      "[CV] C=10, gamma=1 ...................................................\n",
      "[CV] ....................... C=10, gamma=1, score=0.882, total=   0.0s\n",
      "[CV] C=10, gamma=1 ...................................................\n",
      "[CV] ....................... C=10, gamma=1, score=0.868, total=   0.0s\n",
      "[CV] C=10, gamma=1 ...................................................\n",
      "[CV] ....................... C=10, gamma=1, score=0.875, total=   0.0s\n",
      "[CV] C=10, gamma=1 ...................................................\n",
      "[CV] ....................... C=10, gamma=1, score=0.824, total=   0.0s\n",
      "[CV] C=10, gamma=0.1 .................................................\n",
      "[CV] ..................... C=10, gamma=0.1, score=0.985, total=   0.0s\n",
      "[CV] C=10, gamma=0.1 .................................................\n",
      "[CV] ..................... C=10, gamma=0.1, score=0.993, total=   0.0s\n",
      "[CV] C=10, gamma=0.1 .................................................\n",
      "[CV] ..................... C=10, gamma=0.1, score=0.978, total=   0.0s\n",
      "[CV] C=10, gamma=0.1 .................................................\n",
      "[CV] ..................... C=10, gamma=0.1, score=0.993, total=   0.0s\n",
      "[CV] C=10, gamma=0.1 .................................................\n",
      "[CV] ..................... C=10, gamma=0.1, score=0.963, total=   0.0s\n",
      "[CV] C=10, gamma=0.01 ................................................\n",
      "[CV] .................... C=10, gamma=0.01, score=0.831, total=   0.0s\n",
      "[CV] C=10, gamma=0.01 ................................................\n",
      "[CV] .................... C=10, gamma=0.01, score=0.868, total=   0.0s\n",
      "[CV] C=10, gamma=0.01 ................................................\n",
      "[CV] .................... C=10, gamma=0.01, score=0.853, total=   0.0s\n",
      "[CV] C=10, gamma=0.01 ................................................\n",
      "[CV] .................... C=10, gamma=0.01, score=0.816, total=   0.0s\n",
      "[CV] C=10, gamma=0.01 ................................................\n",
      "[CV] .................... C=10, gamma=0.01, score=0.779, total=   0.0s\n",
      "[CV] C=10, gamma=0.001 ...............................................\n",
      "[CV] ................... C=10, gamma=0.001, score=0.794, total=   0.0s\n",
      "[CV] C=10, gamma=0.001 ...............................................\n",
      "[CV] ................... C=10, gamma=0.001, score=0.765, total=   0.0s\n",
      "[CV] C=10, gamma=0.001 ...............................................\n",
      "[CV] ................... C=10, gamma=0.001, score=0.772, total=   0.0s\n",
      "[CV] C=10, gamma=0.001 ...............................................\n",
      "[CV] ................... C=10, gamma=0.001, score=0.743, total=   0.0s\n",
      "[CV] C=10, gamma=0.001 ...............................................\n",
      "[CV] ................... C=10, gamma=0.001, score=0.721, total=   0.0s\n",
      "[CV] C=100, gamma=1 ..................................................\n",
      "[CV] ...................... C=100, gamma=1, score=0.875, total=   0.0s\n",
      "[CV] C=100, gamma=1 ..................................................\n",
      "[CV] ...................... C=100, gamma=1, score=0.882, total=   0.0s\n",
      "[CV] C=100, gamma=1 ..................................................\n",
      "[CV] ...................... C=100, gamma=1, score=0.868, total=   0.0s\n",
      "[CV] C=100, gamma=1 ..................................................\n",
      "[CV] ...................... C=100, gamma=1, score=0.875, total=   0.1s\n",
      "[CV] C=100, gamma=1 ..................................................\n",
      "[CV] ...................... C=100, gamma=1, score=0.824, total=   0.0s\n",
      "[CV] C=100, gamma=0.1 ................................................\n",
      "[CV] .................... C=100, gamma=0.1, score=0.993, total=   0.0s\n",
      "[CV] C=100, gamma=0.1 ................................................\n",
      "[CV] .................... C=100, gamma=0.1, score=0.993, total=   0.0s\n",
      "[CV] C=100, gamma=0.1 ................................................\n",
      "[CV] .................... C=100, gamma=0.1, score=0.978, total=   0.0s\n",
      "[CV] C=100, gamma=0.1 ................................................\n",
      "[CV] .................... C=100, gamma=0.1, score=0.993, total=   0.0s\n",
      "[CV] C=100, gamma=0.1 ................................................\n",
      "[CV] .................... C=100, gamma=0.1, score=0.963, total=   0.0s\n",
      "[CV] C=100, gamma=0.01 ...............................................\n",
      "[CV] ................... C=100, gamma=0.01, score=0.985, total=   0.0s\n",
      "[CV] C=100, gamma=0.01 ...............................................\n",
      "[CV] ................... C=100, gamma=0.01, score=0.971, total=   0.0s\n",
      "[CV] C=100, gamma=0.01 ...............................................\n",
      "[CV] ................... C=100, gamma=0.01, score=0.993, total=   0.0s\n",
      "[CV] C=100, gamma=0.01 ...............................................\n",
      "[CV] ................... C=100, gamma=0.01, score=0.985, total=   0.0s\n",
      "[CV] C=100, gamma=0.01 ...............................................\n",
      "[CV] ................... C=100, gamma=0.01, score=0.934, total=   0.0s\n",
      "[CV] C=100, gamma=0.001 ..............................................\n",
      "[CV] .................. C=100, gamma=0.001, score=0.801, total=   0.0s\n",
      "[CV] C=100, gamma=0.001 ..............................................\n",
      "[CV] .................. C=100, gamma=0.001, score=0.801, total=   0.0s\n",
      "[CV] C=100, gamma=0.001 ..............................................\n",
      "[CV] .................. C=100, gamma=0.001, score=0.743, total=   0.0s\n",
      "[CV] C=100, gamma=0.001 ..............................................\n",
      "[CV] .................. C=100, gamma=0.001, score=0.772, total=   0.0s\n",
      "[CV] C=100, gamma=0.001 ..............................................\n",
      "[CV] .................. C=100, gamma=0.001, score=0.743, total=   0.0s\n",
      "[CV] C=1000, gamma=1 .................................................\n",
      "[CV] ..................... C=1000, gamma=1, score=0.875, total=   0.0s\n",
      "[CV] C=1000, gamma=1 .................................................\n",
      "[CV] ..................... C=1000, gamma=1, score=0.882, total=   0.0s\n",
      "[CV] C=1000, gamma=1 .................................................\n",
      "[CV] ..................... C=1000, gamma=1, score=0.868, total=   0.0s\n",
      "[CV] C=1000, gamma=1 .................................................\n",
      "[CV] ..................... C=1000, gamma=1, score=0.875, total=   0.0s\n",
      "[CV] C=1000, gamma=1 .................................................\n",
      "[CV] ..................... C=1000, gamma=1, score=0.824, total=   0.0s\n",
      "[CV] C=1000, gamma=0.1 ...............................................\n",
      "[CV] ................... C=1000, gamma=0.1, score=0.993, total=   0.0s\n",
      "[CV] C=1000, gamma=0.1 ...............................................\n",
      "[CV] ................... C=1000, gamma=0.1, score=0.993, total=   0.0s\n",
      "[CV] C=1000, gamma=0.1 ...............................................\n",
      "[CV] ................... C=1000, gamma=0.1, score=0.978, total=   0.0s\n",
      "[CV] C=1000, gamma=0.1 ...............................................\n",
      "[CV] ................... C=1000, gamma=0.1, score=0.993, total=   0.0s\n",
      "[CV] C=1000, gamma=0.1 ...............................................\n",
      "[CV] ................... C=1000, gamma=0.1, score=0.963, total=   0.0s\n",
      "[CV] C=1000, gamma=0.01 ..............................................\n",
      "[CV] .................. C=1000, gamma=0.01, score=1.000, total=   0.1s\n",
      "[CV] C=1000, gamma=0.01 ..............................................\n",
      "[CV] .................. C=1000, gamma=0.01, score=1.000, total=   0.1s\n",
      "[CV] C=1000, gamma=0.01 ..............................................\n",
      "[CV] .................. C=1000, gamma=0.01, score=1.000, total=   0.1s\n",
      "[CV] C=1000, gamma=0.01 ..............................................\n",
      "[CV] .................. C=1000, gamma=0.01, score=1.000, total=   0.1s\n",
      "[CV] C=1000, gamma=0.01 ..............................................\n",
      "[CV] .................. C=1000, gamma=0.01, score=0.993, total=   0.1s\n",
      "[CV] C=1000, gamma=0.001 .............................................\n",
      "[CV] ................. C=1000, gamma=0.001, score=0.860, total=   0.0s\n",
      "[CV] C=1000, gamma=0.001 .............................................\n",
      "[CV] ................. C=1000, gamma=0.001, score=0.890, total=   0.0s\n",
      "[CV] C=1000, gamma=0.001 .............................................\n"
     ]
    },
    {
     "name": "stdout",
     "output_type": "stream",
     "text": [
      "[CV] ................. C=1000, gamma=0.001, score=0.868, total=   0.0s\n",
      "[CV] C=1000, gamma=0.001 .............................................\n",
      "[CV] ................. C=1000, gamma=0.001, score=0.809, total=   0.0s\n",
      "[CV] C=1000, gamma=0.001 .............................................\n",
      "[CV] ................. C=1000, gamma=0.001, score=0.779, total=   0.0s\n"
     ]
    },
    {
     "name": "stderr",
     "output_type": "stream",
     "text": [
      "[Parallel(n_jobs=1)]: Done  80 out of  80 | elapsed:    1.7s finished\n"
     ]
    },
    {
     "data": {
      "text/plain": [
       "GridSearchCV(cv=None, error_score=nan,\n",
       "             estimator=SVC(C=1.0, break_ties=False, cache_size=200,\n",
       "                           class_weight=None, coef0=0.0,\n",
       "                           decision_function_shape='ovr', degree=3,\n",
       "                           gamma='scale', kernel='rbf', max_iter=-1,\n",
       "                           probability=False, random_state=None, shrinking=True,\n",
       "                           tol=0.001, verbose=False),\n",
       "             iid='deprecated', n_jobs=None,\n",
       "             param_grid={'C': [1, 10, 100, 1000],\n",
       "                         'gamma': [1, 0.1, 0.01, 0.001]},\n",
       "             pre_dispatch='2*n_jobs', refit=True, return_train_score=False,\n",
       "             scoring=None, verbose=3)"
      ]
     },
     "execution_count": 113,
     "metadata": {},
     "output_type": "execute_result"
    }
   ],
   "source": [
    "grid.fit(X_train,y_train)"
   ]
  },
  {
   "cell_type": "code",
   "execution_count": 114,
   "metadata": {},
   "outputs": [
    {
     "data": {
      "text/plain": [
       "{'C': 1000, 'gamma': 0.01}"
      ]
     },
     "execution_count": 114,
     "metadata": {},
     "output_type": "execute_result"
    }
   ],
   "source": [
    "grid.best_params_"
   ]
  },
  {
   "cell_type": "code",
   "execution_count": 115,
   "metadata": {},
   "outputs": [
    {
     "data": {
      "text/plain": [
       "SVC(C=1000, break_ties=False, cache_size=200, class_weight=None, coef0=0.0,\n",
       "    decision_function_shape='ovr', degree=3, gamma=0.01, kernel='rbf',\n",
       "    max_iter=-1, probability=False, random_state=None, shrinking=True,\n",
       "    tol=0.001, verbose=False)"
      ]
     },
     "execution_count": 115,
     "metadata": {},
     "output_type": "execute_result"
    }
   ],
   "source": [
    "grid.best_estimator_"
   ]
  },
  {
   "cell_type": "code",
   "execution_count": 116,
   "metadata": {},
   "outputs": [],
   "source": [
    "grid_pred = grid.predict(X_test)"
   ]
  },
  {
   "cell_type": "code",
   "execution_count": 117,
   "metadata": {},
   "outputs": [
    {
     "name": "stdout",
     "output_type": "stream",
     "text": [
      "              precision    recall  f1-score   support\n",
      "\n",
      "           0       1.00      0.99      1.00       111\n",
      "           1       0.98      1.00      0.99        59\n",
      "\n",
      "    accuracy                           0.99       170\n",
      "   macro avg       0.99      1.00      0.99       170\n",
      "weighted avg       0.99      0.99      0.99       170\n",
      "\n"
     ]
    }
   ],
   "source": [
    "print(classification_report(y_test,grid_pred))"
   ]
  },
  {
   "cell_type": "code",
   "execution_count": 118,
   "metadata": {},
   "outputs": [
    {
     "name": "stdout",
     "output_type": "stream",
     "text": [
      "[[110   1]\n",
      " [  0  59]]\n"
     ]
    }
   ],
   "source": [
    "print(confusion_matrix(y_test,grid_pred))"
   ]
  },
  {
   "cell_type": "code",
   "execution_count": null,
   "metadata": {},
   "outputs": [],
   "source": []
  },
  {
   "cell_type": "code",
   "execution_count": null,
   "metadata": {},
   "outputs": [],
   "source": []
  }
 ],
 "metadata": {
  "kernelspec": {
   "display_name": "Python 3",
   "language": "python",
   "name": "python3"
  },
  "language_info": {
   "codemirror_mode": {
    "name": "ipython",
    "version": 3
   },
   "file_extension": ".py",
   "mimetype": "text/x-python",
   "name": "python",
   "nbconvert_exporter": "python",
   "pygments_lexer": "ipython3",
   "version": "3.7.7"
  }
 },
 "nbformat": 4,
 "nbformat_minor": 2
}
